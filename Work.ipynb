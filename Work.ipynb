{
 "cells": [
  {
   "cell_type": "markdown",
   "id": "1ba125ac",
   "metadata": {},
   "source": [
    "## Current Status:\n",
    "- Using a train and validation set, I don't seem to be getting better than 68% accuracy for the best performing model (Random Forest with poor performing features (`OnTime`, `DeliverySatisfaction`) removed\n",
    "- Looked at NaiveBayes, RandomForest, DecisionTrees, XGBoost, LogisticRegression\n",
    "- Tried PCA on the features without much success, never done that before so possible I am doing that incorrectly, still looking into that\n",
    "- Feel like I either need to be doing more with feature engineering or that I'm not doing something in my model building, cross-validation or interpretation of the results correctly\n",
    "\n",
    "\n",
    "- Need to clean this up a bit more, i'll try to get a cleaner version before our meeting Monday"
   ]
  },
  {
   "cell_type": "code",
   "execution_count": 2,
   "id": "3b1e3f3a",
   "metadata": {},
   "outputs": [],
   "source": [
    "# Add needed libraries\n",
    "import numpy as np\n",
    "import pandas as pd\n",
    "import matplotlib.pyplot as plt\n",
    "import seaborn as sns\n",
    "import random\n",
    "\n",
    "# VIF for multi-collinearity detection\n",
    "from statsmodels.stats.outliers_influence import variance_inflation_factor\n",
    "\n",
    "# Models and modeling tools\n",
    "from sklearn.model_selection import train_test_split\n",
    "from sklearn.linear_model import LinearRegression\n",
    "from sklearn.linear_model import LogisticRegression\n",
    "from sklearn import tree\n",
    "from sklearn.ensemble import RandomForestClassifier\n",
    "import statsmodels.api as sm\n",
    "\n",
    "# Change inline plots default size\n",
    "plt.rcParams['figure.figsize'] = [12, 8]"
   ]
  },
  {
   "cell_type": "code",
   "execution_count": 3,
   "id": "a323120e",
   "metadata": {},
   "outputs": [],
   "source": [
    "# Read in the rawData\n",
    "columns = ['Happy', 'OnTime', 'OrderCorrect', 'FoundEverything', 'GoodPrice', 'DeliverySatisfaction', 'EasyToUse']\n",
    "rawData = pd.read_csv('ACME-HappinessSurvey2020.csv', header=0, names=columns)\n",
    "\n",
    "# Separate data in independent (features) and dependent (target) datasets\n",
    "features = rawData.copy()\n",
    "target = features.pop('Happy')"
   ]
  },
  {
   "cell_type": "markdown",
   "id": "71e74a1d",
   "metadata": {},
   "source": [
    "############################################################################################################################### \\\n",
    "############################################################################################################################### \\\n",
    "############################################################################################################################### "
   ]
  },
  {
   "cell_type": "markdown",
   "id": "1df34b0b",
   "metadata": {},
   "source": [
    "## Exploratory Data Analysis"
   ]
  },
  {
   "cell_type": "code",
   "execution_count": 3,
   "id": "f1ef1a59",
   "metadata": {},
   "outputs": [
    {
     "data": {
      "text/html": [
       "<div>\n",
       "<style scoped>\n",
       "    .dataframe tbody tr th:only-of-type {\n",
       "        vertical-align: middle;\n",
       "    }\n",
       "\n",
       "    .dataframe tbody tr th {\n",
       "        vertical-align: top;\n",
       "    }\n",
       "\n",
       "    .dataframe thead th {\n",
       "        text-align: right;\n",
       "    }\n",
       "</style>\n",
       "<table border=\"1\" class=\"dataframe\">\n",
       "  <thead>\n",
       "    <tr style=\"text-align: right;\">\n",
       "      <th></th>\n",
       "      <th>Happy</th>\n",
       "      <th>OnTime</th>\n",
       "      <th>OrderCorrect</th>\n",
       "      <th>FoundEverything</th>\n",
       "      <th>GoodPrice</th>\n",
       "      <th>DeliverySatisfaction</th>\n",
       "      <th>EasyToUse</th>\n",
       "    </tr>\n",
       "  </thead>\n",
       "  <tbody>\n",
       "    <tr>\n",
       "      <th>count</th>\n",
       "      <td>126.000000</td>\n",
       "      <td>126.000000</td>\n",
       "      <td>126.000000</td>\n",
       "      <td>126.000000</td>\n",
       "      <td>126.000000</td>\n",
       "      <td>126.000000</td>\n",
       "      <td>126.000000</td>\n",
       "    </tr>\n",
       "    <tr>\n",
       "      <th>mean</th>\n",
       "      <td>0.547619</td>\n",
       "      <td>4.333333</td>\n",
       "      <td>2.531746</td>\n",
       "      <td>3.309524</td>\n",
       "      <td>3.746032</td>\n",
       "      <td>3.650794</td>\n",
       "      <td>4.253968</td>\n",
       "    </tr>\n",
       "    <tr>\n",
       "      <th>std</th>\n",
       "      <td>0.499714</td>\n",
       "      <td>0.800000</td>\n",
       "      <td>1.114892</td>\n",
       "      <td>1.023440</td>\n",
       "      <td>0.875776</td>\n",
       "      <td>1.147641</td>\n",
       "      <td>0.809311</td>\n",
       "    </tr>\n",
       "    <tr>\n",
       "      <th>min</th>\n",
       "      <td>0.000000</td>\n",
       "      <td>1.000000</td>\n",
       "      <td>1.000000</td>\n",
       "      <td>1.000000</td>\n",
       "      <td>1.000000</td>\n",
       "      <td>1.000000</td>\n",
       "      <td>1.000000</td>\n",
       "    </tr>\n",
       "    <tr>\n",
       "      <th>25%</th>\n",
       "      <td>0.000000</td>\n",
       "      <td>4.000000</td>\n",
       "      <td>2.000000</td>\n",
       "      <td>3.000000</td>\n",
       "      <td>3.000000</td>\n",
       "      <td>3.000000</td>\n",
       "      <td>4.000000</td>\n",
       "    </tr>\n",
       "    <tr>\n",
       "      <th>50%</th>\n",
       "      <td>1.000000</td>\n",
       "      <td>5.000000</td>\n",
       "      <td>3.000000</td>\n",
       "      <td>3.000000</td>\n",
       "      <td>4.000000</td>\n",
       "      <td>4.000000</td>\n",
       "      <td>4.000000</td>\n",
       "    </tr>\n",
       "    <tr>\n",
       "      <th>75%</th>\n",
       "      <td>1.000000</td>\n",
       "      <td>5.000000</td>\n",
       "      <td>3.000000</td>\n",
       "      <td>4.000000</td>\n",
       "      <td>4.000000</td>\n",
       "      <td>4.000000</td>\n",
       "      <td>5.000000</td>\n",
       "    </tr>\n",
       "    <tr>\n",
       "      <th>max</th>\n",
       "      <td>1.000000</td>\n",
       "      <td>5.000000</td>\n",
       "      <td>5.000000</td>\n",
       "      <td>5.000000</td>\n",
       "      <td>5.000000</td>\n",
       "      <td>5.000000</td>\n",
       "      <td>5.000000</td>\n",
       "    </tr>\n",
       "  </tbody>\n",
       "</table>\n",
       "</div>"
      ],
      "text/plain": [
       "            Happy      OnTime  OrderCorrect  FoundEverything   GoodPrice  \\\n",
       "count  126.000000  126.000000    126.000000       126.000000  126.000000   \n",
       "mean     0.547619    4.333333      2.531746         3.309524    3.746032   \n",
       "std      0.499714    0.800000      1.114892         1.023440    0.875776   \n",
       "min      0.000000    1.000000      1.000000         1.000000    1.000000   \n",
       "25%      0.000000    4.000000      2.000000         3.000000    3.000000   \n",
       "50%      1.000000    5.000000      3.000000         3.000000    4.000000   \n",
       "75%      1.000000    5.000000      3.000000         4.000000    4.000000   \n",
       "max      1.000000    5.000000      5.000000         5.000000    5.000000   \n",
       "\n",
       "       DeliverySatisfaction   EasyToUse  \n",
       "count            126.000000  126.000000  \n",
       "mean               3.650794    4.253968  \n",
       "std                1.147641    0.809311  \n",
       "min                1.000000    1.000000  \n",
       "25%                3.000000    4.000000  \n",
       "50%                4.000000    4.000000  \n",
       "75%                4.000000    5.000000  \n",
       "max                5.000000    5.000000  "
      ]
     },
     "execution_count": 3,
     "metadata": {},
     "output_type": "execute_result"
    }
   ],
   "source": [
    "# Initial descriptive statistics investigation into the dataset\n",
    "rawData.describe()"
   ]
  },
  {
   "cell_type": "code",
   "execution_count": 4,
   "id": "36e29bd4",
   "metadata": {},
   "outputs": [
    {
     "data": {
      "text/plain": [
       "Happy                   0\n",
       "OnTime                  0\n",
       "OrderCorrect            0\n",
       "FoundEverything         0\n",
       "GoodPrice               0\n",
       "DeliverySatisfaction    0\n",
       "EasyToUse               0\n",
       "dtype: int64"
      ]
     },
     "execution_count": 4,
     "metadata": {},
     "output_type": "execute_result"
    }
   ],
   "source": [
    "# Check for missing data\n",
    "rawData.isna().sum()"
   ]
  },
  {
   "cell_type": "code",
   "execution_count": 5,
   "id": "642b16df",
   "metadata": {},
   "outputs": [
    {
     "data": {
      "image/png": "[encoded data removed]",
      "text/plain": [
       "<Figure size 864x576 with 1 Axes>"
      ]
     },
     "metadata": {
      "needs_background": "light"
     },
     "output_type": "display_data"
    }
   ],
   "source": [
    "# Plot response variable\n",
    "fig, axs = plt.subplots()\n",
    "sns.histplot(data=rawData, x='Happy',discrete=True)\n",
    "plt.show()"
   ]
  },
  {
   "cell_type": "markdown",
   "id": "f16f781a",
   "metadata": {},
   "source": [
    "### Initial description: \n",
    "- N=126 datapoints, \n",
    "- Response Variable (Y) is binary \n",
    "- Predictors are all ordinal from 1-5.\n",
    "- No missing data\n",
    "- Response variable balanced between 0 and 1 responses\n",
    "\n",
    "- This is consistent with the data descriptions provided:\n",
    "\n",
    "```\n",
    "Data Description:\n",
    "\n",
    "Y = target attribute (Y) with values indicating 0 (unhappy) and 1 (happy) customers\n",
    "X1 = my order was delivered on time\n",
    "X2 = contents of my order was as I expected\n",
    "X3 = I ordered everything I wanted to order\n",
    "X4 = I paid a good price for my order\n",
    "X5 = I am satisfied with my courier\n",
    "X6 = the app makes ordering easy for me\n",
    "\n",
    "Attributes X1 to X6 indicate the responses for each question and have values from 1 to 5 where the smaller number indicates less and the higher number indicates more towards the answer.\n",
    "```\n",
    "\n",
    "### Initial thoughts: \n",
    "- __Balanced Binary response variable__ \n",
    "    - Use a classifier (Logistic Regression, SVM, Decision Trees, etc...)\n",
    "- __Very small dataset__\n",
    "    - Stick with simple methods (Logistic Regression could be a good fit) \n",
    "    - Outliers could have strong influence\n",
    "- __Predictors are survey data__ \n",
    "    - All on same scale so shouldn't need normalization\n"
   ]
  },
  {
   "cell_type": "code",
   "execution_count": 6,
   "id": "50a8b778",
   "metadata": {},
   "outputs": [
    {
     "data": {
      "image/png": "[encoded data removed]",
      "text/plain": [
       "<Figure size 864x576 with 12 Axes>"
      ]
     },
     "metadata": {
      "needs_background": "light"
     },
     "output_type": "display_data"
    }
   ],
   "source": [
    "# Plot the feature distributions to look for skewed data/visualize possible outliers\n",
    "fig, axs = plt.subplots(6,2)\n",
    "sns.histplot(data=features, x='OnTime', ax=axs[0,0], discrete=True)\n",
    "sns.histplot(data=features, x='OrderCorrect', ax=axs[1,0], discrete=True)\n",
    "sns.histplot(data=features, x='FoundEverything', ax=axs[2,0], discrete=True)\n",
    "sns.histplot(data=features, x='GoodPrice', ax=axs[3,0], discrete=True)\n",
    "sns.histplot(data=features, x='DeliverySatisfaction', ax=axs[4,0], discrete=True)\n",
    "sns.histplot(data=features, x='EasyToUse', ax=axs[5,0], discrete=True)\n",
    "\n",
    "sns.boxplot(data=features, x='OnTime', ax=axs[0,1])\n",
    "sns.boxplot(data=features, x='OrderCorrect', ax=axs[1,1])\n",
    "sns.boxplot(data=features, x='FoundEverything', ax=axs[2,1])\n",
    "sns.boxplot(data=features, x='GoodPrice', ax=axs[3,1])\n",
    "sns.boxplot(data=features, x='DeliverySatisfaction', ax=axs[4,1])\n",
    "sns.boxplot(data=features, x='EasyToUse', ax=axs[5,1])\n",
    "plt.tight_layout()\n",
    "plt.show()"
   ]
  },
  {
   "cell_type": "code",
   "execution_count": 7,
   "id": "d757b595",
   "metadata": {},
   "outputs": [
    {
     "data": {
      "text/plain": [
       "OnTime                 -1.058468\n",
       "OrderCorrect            0.271000\n",
       "FoundEverything        -0.199536\n",
       "GoodPrice              -0.422240\n",
       "DeliverySatisfaction   -0.699999\n",
       "EasyToUse              -0.957590\n",
       "dtype: float64"
      ]
     },
     "execution_count": 7,
     "metadata": {},
     "output_type": "execute_result"
    }
   ],
   "source": [
    "# Look at skewness in the independent variables\n",
    "features.skew()"
   ]
  },
  {
   "cell_type": "code",
   "execution_count": 8,
   "id": "cf509bb3",
   "metadata": {},
   "outputs": [
    {
     "data": {
      "text/html": [
       "<div>\n",
       "<style scoped>\n",
       "    .dataframe tbody tr th:only-of-type {\n",
       "        vertical-align: middle;\n",
       "    }\n",
       "\n",
       "    .dataframe tbody tr th {\n",
       "        vertical-align: top;\n",
       "    }\n",
       "\n",
       "    .dataframe thead th {\n",
       "        text-align: right;\n",
       "    }\n",
       "</style>\n",
       "<table border=\"1\" class=\"dataframe\">\n",
       "  <thead>\n",
       "    <tr style=\"text-align: right;\">\n",
       "      <th></th>\n",
       "      <th>OnTime</th>\n",
       "      <th>OrderCorrect</th>\n",
       "      <th>FoundEverything</th>\n",
       "      <th>GoodPrice</th>\n",
       "      <th>DeliverySatisfaction</th>\n",
       "      <th>EasyToUse</th>\n",
       "    </tr>\n",
       "  </thead>\n",
       "  <tbody>\n",
       "    <tr>\n",
       "      <th>OnTime</th>\n",
       "      <td>1.000000</td>\n",
       "      <td>0.059797</td>\n",
       "      <td>0.283358</td>\n",
       "      <td>0.087541</td>\n",
       "      <td>0.432772</td>\n",
       "      <td>0.411873</td>\n",
       "    </tr>\n",
       "    <tr>\n",
       "      <th>OrderCorrect</th>\n",
       "      <td>0.059797</td>\n",
       "      <td>1.000000</td>\n",
       "      <td>0.184129</td>\n",
       "      <td>0.114838</td>\n",
       "      <td>0.039996</td>\n",
       "      <td>-0.062205</td>\n",
       "    </tr>\n",
       "    <tr>\n",
       "      <th>FoundEverything</th>\n",
       "      <td>0.283358</td>\n",
       "      <td>0.184129</td>\n",
       "      <td>1.000000</td>\n",
       "      <td>0.302618</td>\n",
       "      <td>0.358397</td>\n",
       "      <td>0.203750</td>\n",
       "    </tr>\n",
       "    <tr>\n",
       "      <th>GoodPrice</th>\n",
       "      <td>0.087541</td>\n",
       "      <td>0.114838</td>\n",
       "      <td>0.302618</td>\n",
       "      <td>1.000000</td>\n",
       "      <td>0.293115</td>\n",
       "      <td>0.215888</td>\n",
       "    </tr>\n",
       "    <tr>\n",
       "      <th>DeliverySatisfaction</th>\n",
       "      <td>0.432772</td>\n",
       "      <td>0.039996</td>\n",
       "      <td>0.358397</td>\n",
       "      <td>0.293115</td>\n",
       "      <td>1.000000</td>\n",
       "      <td>0.320195</td>\n",
       "    </tr>\n",
       "    <tr>\n",
       "      <th>EasyToUse</th>\n",
       "      <td>0.411873</td>\n",
       "      <td>-0.062205</td>\n",
       "      <td>0.203750</td>\n",
       "      <td>0.215888</td>\n",
       "      <td>0.320195</td>\n",
       "      <td>1.000000</td>\n",
       "    </tr>\n",
       "  </tbody>\n",
       "</table>\n",
       "</div>"
      ],
      "text/plain": [
       "                        OnTime  OrderCorrect  FoundEverything  GoodPrice  \\\n",
       "OnTime                1.000000      0.059797         0.283358   0.087541   \n",
       "OrderCorrect          0.059797      1.000000         0.184129   0.114838   \n",
       "FoundEverything       0.283358      0.184129         1.000000   0.302618   \n",
       "GoodPrice             0.087541      0.114838         0.302618   1.000000   \n",
       "DeliverySatisfaction  0.432772      0.039996         0.358397   0.293115   \n",
       "EasyToUse             0.411873     -0.062205         0.203750   0.215888   \n",
       "\n",
       "                      DeliverySatisfaction  EasyToUse  \n",
       "OnTime                            0.432772   0.411873  \n",
       "OrderCorrect                      0.039996  -0.062205  \n",
       "FoundEverything                   0.358397   0.203750  \n",
       "GoodPrice                         0.293115   0.215888  \n",
       "DeliverySatisfaction              1.000000   0.320195  \n",
       "EasyToUse                         0.320195   1.000000  "
      ]
     },
     "execution_count": 8,
     "metadata": {},
     "output_type": "execute_result"
    }
   ],
   "source": [
    "# Look at the correlations between independent variables\n",
    "features.corr()"
   ]
  },
  {
   "cell_type": "code",
   "execution_count": 9,
   "id": "80b6fb7b",
   "metadata": {},
   "outputs": [
    {
     "data": {
      "text/html": [
       "<div>\n",
       "<style scoped>\n",
       "    .dataframe tbody tr th:only-of-type {\n",
       "        vertical-align: middle;\n",
       "    }\n",
       "\n",
       "    .dataframe tbody tr th {\n",
       "        vertical-align: top;\n",
       "    }\n",
       "\n",
       "    .dataframe thead th {\n",
       "        text-align: right;\n",
       "    }\n",
       "</style>\n",
       "<table border=\"1\" class=\"dataframe\">\n",
       "  <thead>\n",
       "    <tr style=\"text-align: right;\">\n",
       "      <th></th>\n",
       "      <th>Attribute</th>\n",
       "      <th>VIF Scores</th>\n",
       "    </tr>\n",
       "  </thead>\n",
       "  <tbody>\n",
       "    <tr>\n",
       "      <th>0</th>\n",
       "      <td>OnTime</td>\n",
       "      <td>35.247226</td>\n",
       "    </tr>\n",
       "    <tr>\n",
       "      <th>1</th>\n",
       "      <td>OrderCorrect</td>\n",
       "      <td>6.184639</td>\n",
       "    </tr>\n",
       "    <tr>\n",
       "      <th>2</th>\n",
       "      <td>FoundEverything</td>\n",
       "      <td>14.664274</td>\n",
       "    </tr>\n",
       "    <tr>\n",
       "      <th>3</th>\n",
       "      <td>GoodPrice</td>\n",
       "      <td>19.882237</td>\n",
       "    </tr>\n",
       "    <tr>\n",
       "      <th>4</th>\n",
       "      <td>DeliverySatisfaction</td>\n",
       "      <td>15.813355</td>\n",
       "    </tr>\n",
       "    <tr>\n",
       "      <th>5</th>\n",
       "      <td>EasyToUse</td>\n",
       "      <td>31.895668</td>\n",
       "    </tr>\n",
       "  </tbody>\n",
       "</table>\n",
       "</div>"
      ],
      "text/plain": [
       "              Attribute  VIF Scores\n",
       "0                OnTime   35.247226\n",
       "1          OrderCorrect    6.184639\n",
       "2       FoundEverything   14.664274\n",
       "3             GoodPrice   19.882237\n",
       "4  DeliverySatisfaction   15.813355\n",
       "5             EasyToUse   31.895668"
      ]
     },
     "metadata": {},
     "output_type": "display_data"
    }
   ],
   "source": [
    "# Generate VIF factors for each feature\n",
    "tst = ['OnTime', 'OrderCorrect', 'FoundEverything', 'GoodPrice', 'DeliverySatisfaction', 'EasyToUse']\n",
    "\n",
    "vif_scores = pd.DataFrame() \n",
    "vif_scores[\"Attribute\"] = features.columns \n",
    "  \n",
    "# calculating VIF for each feature \n",
    "vif_scores[\"VIF Scores\"] = [variance_inflation_factor(features.values, i) for i in range(len(features.columns))] \n",
    "  \n",
    "display(vif_scores)"
   ]
  },
  {
   "cell_type": "code",
   "execution_count": 10,
   "id": "cfe25b44",
   "metadata": {},
   "outputs": [
    {
     "data": {
      "image/png": "[encoded data removed]",
      "text/plain": [
       "<Figure size 864x576 with 12 Axes>"
      ]
     },
     "metadata": {
      "needs_background": "light"
     },
     "output_type": "display_data"
    }
   ],
   "source": [
    "# Look at distributions against happy/unhappy\n",
    "happy = rawData.loc[rawData.Happy == 1]\n",
    "unhappy = rawData.loc[rawData.Happy == 0]\n",
    "\n",
    "fig, axs = plt.subplots(6,2)\n",
    "sns.histplot(data=happy, x='OnTime', ax=axs[0,0], discrete=True)\n",
    "sns.histplot(data=happy, x='OrderCorrect', ax=axs[1,0], discrete=True)\n",
    "sns.histplot(data=happy, x='FoundEverything', ax=axs[2,0], discrete=True)\n",
    "sns.histplot(data=happy, x='GoodPrice', ax=axs[3,0], discrete=True)\n",
    "sns.histplot(data=happy, x='DeliverySatisfaction', ax=axs[4,0], discrete=True)\n",
    "sns.histplot(data=happy, x='EasyToUse', ax=axs[5,0], discrete=True)\n",
    "\n",
    "sns.histplot(data=unhappy, x='OnTime', ax=axs[0,1], discrete=True)\n",
    "sns.histplot(data=unhappy, x='OrderCorrect', ax=axs[1,1], discrete=True)\n",
    "sns.histplot(data=unhappy, x='FoundEverything', ax=axs[2,1], discrete=True)\n",
    "sns.histplot(data=unhappy, x='GoodPrice', ax=axs[3,1], discrete=True)\n",
    "sns.histplot(data=unhappy, x='DeliverySatisfaction', ax=axs[4,1], discrete=True)\n",
    "sns.histplot(data=unhappy, x='EasyToUse', ax=axs[5,1], discrete=True)\n",
    "plt.tight_layout()\n",
    "plt.show()"
   ]
  },
  {
   "cell_type": "code",
   "execution_count": 11,
   "id": "96add1b0",
   "metadata": {},
   "outputs": [
    {
     "data": {
      "text/plain": [
       "OnTime                  0.049705\n",
       "EasyToUse               0.035543\n",
       "DeliverySatisfaction    0.027627\n",
       "GoodPrice               0.021880\n",
       "FoundEverything         0.017432\n",
       "OrderCorrect            0.009468\n",
       "Name: MI Scores, dtype: float64"
      ]
     },
     "metadata": {},
     "output_type": "display_data"
    }
   ],
   "source": [
    "from sklearn.feature_selection import mutual_info_classif\n",
    "\n",
    "def make_mi_scores(X, y):\n",
    "    mi_scores = mutual_info_classif(X, y, discrete_features=True)\n",
    "    mi_scores = pd.Series(mi_scores, name=\"MI Scores\", index=X.columns)\n",
    "    mi_scores = mi_scores.sort_values(ascending=False)\n",
    "    return mi_scores\n",
    "\n",
    "mi_scores = make_mi_scores(features, target)\n",
    "display (mi_scores)"
   ]
  },
  {
   "cell_type": "markdown",
   "id": "12ef8f7c",
   "metadata": {},
   "source": [
    "### Discussion on Features\n",
    "\n",
    "__Shape__\n",
    "- Most of the data is slightly left skewed\n",
    "- Overall skewness does not seem like a concern\n",
    "\n",
    "__Outliers__\n",
    "- Every feature has potential outliers\n",
    "- Potential outliers most likely to have an outsized outcome on the model are in the `OnTime` and `EasyToUse` rare low ratings (1/2)\n",
    "- May want to run model with and without the low ratings in `OnTime` and `EasyToUse` to see how strong an influence they have\n",
    "\n",
    "__Multicollinearity__\n",
    "- Direct correlations between features is moderate at worst\n",
    "- Extremely high VIF scores across all but `OrderCorrect` suggesting strong multicollinearity\n",
    "- This is not surprising as someone who had a positive experience will tend to fill out more positive scores and those with a negative experience will tend to fill out more negative scores\n",
    "- Selecting a subset of features will be the best approach to try to address realtionships between features \n",
    "- Non-parametric approaches like Decision Tree methods may also be a better approach than logistic regression\n",
    "\n",
    "__Feature Selections__\n",
    "- `OnTime` and `EasyToUse` top the MI metric, though all seem low in general, with `OnTime`'s relationship between happiness also apparent graphically\n",
    "- `OrderCorrect` does not seem to have much predictive power\n",
    "- `DeliverySatisfaction` and `FoundEverything` and `GoodPrice`'s relationships with happiness are hard to differentiate graphically and are in the middle of the pack relatively for MI scores\n",
    "- Overall, `OnTime` and `EasyToUse` seem most important to prediction of overall Happiness\n",
    "\n",
    "__Other Comments__\n",
    "- `OrderCorrect` is concerning, seems to have little predictive power, but has an average of only 2.5 (low compared to all the other categories).  This would imply that many people are not getting what they expected, yet seems to not be important to their overall happiness, which is counter-intuitive.  I would suggest looking into the source of that data further for possible issues.  If the data is valid, despite not being a current customer concern, seems like something that should be investigated further internally."
   ]
  },
  {
   "cell_type": "markdown",
   "id": "c432437a",
   "metadata": {},
   "source": [
    "############################################################################################################################### \\\n",
    "############################################################################################################################### \\\n",
    "############################################################################################################################### "
   ]
  },
  {
   "cell_type": "markdown",
   "id": "b224706a",
   "metadata": {},
   "source": [
    "## MODELS\n"
   ]
  },
  {
   "cell_type": "code",
   "execution_count": 138,
   "id": "5fd5a02c",
   "metadata": {},
   "outputs": [
    {
     "data": {
      "text/plain": [
       "<AxesSubplot:ylabel='valAcc'>"
      ]
     },
     "execution_count": 138,
     "metadata": {},
     "output_type": "execute_result"
    },
    {
     "data": {
      "image/png": "[encoded data removed]",
      "text/plain": [
       "<Figure size 1512x864 with 1 Axes>"
      ]
     },
     "metadata": {
      "needs_background": "light"
     },
     "output_type": "display_data"
    }
   ],
   "source": [
    "### HELPER FUNCTIONS\n",
    "def paramSearch(model, param, valRange, dataset):\n",
    "    valDict = {}\n",
    "    for val in valRange:\n",
    "        trainAcc = []\n",
    "        accuracy = []\n",
    "        for i in range(0, 100):\n",
    "            # Split dataset into train/validate datasets\n",
    "            train, valid = train_test_split(dataset, test_size=randSize, stratify=dataset['Happy'])\n",
    "            \n",
    "            # Split off target\n",
    "            train_y = train.pop('Happy')\n",
    "            valid_y = valid.pop('Happy')\n",
    "\n",
    "            # Specify model with parameter value\n",
    "            args = {param: val}\n",
    "            clf = model(**args)\n",
    "            \n",
    "            # Train model\n",
    "            clf.fit(train, train_y)\n",
    "\n",
    "            # Evaluate model\n",
    "            ypred = clf.predict(valid)\n",
    "            ypredTrain = clf.predict(train)\n",
    "            \n",
    "            # Analyze Performance\n",
    "            trainAcc.append((ypredTrain - train_y).value_counts()[0]/len(train_y))\n",
    "            accuracy.append((ypred - valid_y).value_counts()[0]/len(valid_y))\n",
    "        \n",
    "        valDict[val] = {'valAcc': np.array(accuracy).mean(), 'trainAcc': np.array(trainAcc).mean()}\n",
    "    \n",
    "    return pd.DataFrame(valDict)\n",
    "\n",
    "results = paramSearch(tree.DecisionTreeClassifier, 'max_depth', np.arange(1,30,2), rawData.copy())\n",
    "\n",
    "sns.regplot(data=results.transpose(),x=results.transpose().index, y='valAcc')"
   ]
  },
  {
   "cell_type": "code",
   "execution_count": 136,
   "id": "24d44325",
   "metadata": {},
   "outputs": [
    {
     "data": {
      "text/plain": [
       "<AxesSubplot:>"
      ]
     },
     "execution_count": 136,
     "metadata": {},
     "output_type": "execute_result"
    },
    {
     "data": {
      "image/png": "[encoded data removed]",
      "text/plain": [
       "<Figure size 1512x864 with 1 Axes>"
      ]
     },
     "metadata": {
      "needs_background": "light"
     },
     "output_type": "display_data"
    }
   ],
   "source": [
    "results.transpose().plot(y='valAcc')"
   ]
  },
  {
   "cell_type": "markdown",
   "id": "de75b541",
   "metadata": {},
   "source": [
    "### Decision Tree"
   ]
  },
  {
   "cell_type": "code",
   "execution_count": 71,
   "id": "b21bc389",
   "metadata": {},
   "outputs": [
    {
     "name": "stdout",
     "output_type": "stream",
     "text": [
      "Correct:  0.746031746031746\n",
      "Pred Unhappy when Happy:  0.03968253968253968\n",
      "Pred Happy when Unhappy:  0.21428571428571427\n"
     ]
    },
    {
     "data": {
      "image/png": "[encoded data removed]",
      "text/plain": [
       "<Figure size 1512x864 with 1 Axes>"
      ]
     },
     "metadata": {
      "needs_background": "light"
     },
     "output_type": "display_data"
    }
   ],
   "source": [
    "# Decision Tree\n",
    "plt.rcParams['figure.figsize'] = [21, 12]\n",
    "decTree = tree.DecisionTreeClassifier(max_depth=4)\n",
    "decTree = decTree.fit(features, target)\n",
    "\n",
    "# Assess training set performance\n",
    "pred = decTree.predict(features)\n",
    "error = target - pred\n",
    "print ('Correct: ', error.value_counts()[0]/len(pred))\n",
    "print ('Pred Unhappy when Happy: ', error.value_counts()[1]/len(pred))\n",
    "print ('Pred Happy when Unhappy: ', error.value_counts()[-1]/len(pred))\n",
    "\n",
    "# Visualize Tree\n",
    "tmp = tree.plot_tree(decTree, feature_names=features.columns.values)"
   ]
  },
  {
   "cell_type": "code",
   "execution_count": 133,
   "id": "1969e6c2",
   "metadata": {},
   "outputs": [
    {
     "name": "stdout",
     "output_type": "stream",
     "text": [
      "Correct:  0.6096153846153848\n",
      "Pred Unhappy when Happy:  0.16730769230769216\n",
      "Pred Happy when Unhappy:  0.22307692307692306\n"
     ]
    }
   ],
   "source": [
    "# Decision Tree with Validation Set\n",
    "accuracy = []\n",
    "for i in range(0, 100):\n",
    "    train, valid = train_test_split(rawData, test_size=0.20, stratify=rawData['Happy'])\n",
    "    train_y = train.pop('Happy')\n",
    "    valid_y = valid.pop('Happy')\n",
    "    \n",
    "    decTree = tree.DecisionTreeClassifier(max_depth=1, splitter='best', max_features=4)\n",
    "    decTree = decTree.fit(train, train_y)\n",
    "    pred = decTree.predict(valid)\n",
    "    error = valid_y - pred\n",
    "    \n",
    "    correct = error.value_counts()[0]/len(pred)\n",
    "    if (1 in error.value_counts()):\n",
    "        errUnhappy = error.value_counts()[1]/len(pred)\n",
    "    else:\n",
    "        errUnhappy = 0.0\n",
    "    if (-1 in error.value_counts()):\n",
    "        errHappy = error.value_counts()[-1]/len(pred)\n",
    "    else:\n",
    "        errHappy = 0.0\n",
    "    \n",
    "    accuracy.append({'Correct': correct, 'errUnhappy': errUnhappy, 'errHappy': errHappy})\n",
    "    \n",
    "accDataset = pd.DataFrame(accuracy)\n",
    "print ('Correct: ', accDataset.Correct.mean())\n",
    "print ('Pred Unhappy when Happy: ', accDataset.errUnhappy.mean())\n",
    "print ('Pred Happy when Unhappy: ', accDataset.errHappy.mean())"
   ]
  },
  {
   "cell_type": "code",
   "execution_count": null,
   "id": "ac466513",
   "metadata": {},
   "outputs": [],
   "source": []
  },
  {
   "cell_type": "code",
   "execution_count": null,
   "id": "f2a96c73",
   "metadata": {},
   "outputs": [],
   "source": []
  },
  {
   "cell_type": "markdown",
   "id": "76182c6e",
   "metadata": {},
   "source": [
    "### Multiple Regression\n",
    "Don't think this will work, but curious to see what if anything is significant"
   ]
  },
  {
   "cell_type": "code",
   "execution_count": 152,
   "id": "669974e0",
   "metadata": {},
   "outputs": [
    {
     "name": "stdout",
     "output_type": "stream",
     "text": [
      "                 Results: Ordinary least squares\n",
      "=================================================================\n",
      "Model:              OLS              Adj. R-squared:     0.065   \n",
      "Dependent Variable: Happy            AIC:                177.2325\n",
      "Date:               2022-06-16 18:23 BIC:                185.7414\n",
      "No. Observations:   126              Log-Likelihood:     -85.616 \n",
      "Df Model:           2                F-statistic:        5.355   \n",
      "Df Residuals:       123              Prob (F-statistic): 0.00589 \n",
      "R-squared:          0.080            Scale:              0.23345 \n",
      "------------------------------------------------------------------\n",
      "                Coef.   Std.Err.     t     P>|t|    [0.025  0.975]\n",
      "------------------------------------------------------------------\n",
      "const          -0.2871    0.2896  -0.9914  0.3234  -0.8604  0.2861\n",
      "OnTime          0.1728    0.0542   3.1866  0.0018   0.0655  0.2801\n",
      "GoodPrice       0.0229    0.0495   0.4630  0.6442  -0.0751  0.1210\n",
      "-----------------------------------------------------------------\n",
      "Omnibus:              1690.340      Durbin-Watson:         2.012 \n",
      "Prob(Omnibus):        0.000         Jarque-Bera (JB):      15.211\n",
      "Skew:                 -0.192        Prob(JB):              0.000 \n",
      "Kurtosis:             1.342         Condition No.:         40    \n",
      "=================================================================\n",
      "\n",
      "                 Results: Ordinary least squares\n",
      "=================================================================\n",
      "Model:              OLS              Adj. R-squared:     0.065   \n",
      "Dependent Variable: Happy            AIC:                177.2208\n",
      "Date:               2022-06-16 18:23 BIC:                185.7296\n",
      "No. Observations:   126              Log-Likelihood:     -85.610 \n",
      "Df Model:           2                F-statistic:        5.361   \n",
      "Df Residuals:       123              Prob (F-statistic): 0.00586 \n",
      "R-squared:          0.080            Scale:              0.23343 \n",
      "------------------------------------------------------------------\n",
      "                Coef.   Std.Err.     t     P>|t|    [0.025  0.975]\n",
      "------------------------------------------------------------------\n",
      "const          -0.1707    0.2525  -0.6759  0.5004  -0.6704  0.3291\n",
      "OnTime          0.1765    0.0541   3.2623  0.0014   0.0694  0.2837\n",
      "OrderCorrect   -0.0185    0.0388  -0.4753  0.6354  -0.0953  0.0584\n",
      "-----------------------------------------------------------------\n",
      "Omnibus:              1781.160      Durbin-Watson:         2.024 \n",
      "Prob(Omnibus):        0.000         Jarque-Bera (JB):      15.022\n",
      "Skew:                 -0.190        Prob(JB):              0.001 \n",
      "Kurtosis:             1.351         Condition No.:         31    \n",
      "=================================================================\n",
      "\n",
      "                 Results: Ordinary least squares\n",
      "=================================================================\n",
      "Model:              OLS              Adj. R-squared:     0.069   \n",
      "Dependent Variable: Happy            AIC:                176.6906\n",
      "Date:               2022-06-16 18:23 BIC:                185.1995\n",
      "No. Observations:   126              Log-Likelihood:     -85.345 \n",
      "Df Model:           2                F-statistic:        5.643   \n",
      "Df Residuals:       123              Prob (F-statistic): 0.00452 \n",
      "R-squared:          0.084            Scale:              0.23245 \n",
      "-----------------------------------------------------------------\n",
      "                    Coef.  Std.Err.    t    P>|t|   [0.025 0.975]\n",
      "-----------------------------------------------------------------\n",
      "const              -0.2767   0.2495 -1.1090 0.2696 -0.7705 0.2172\n",
      "OnTime              0.1612   0.0562  2.8688 0.0049  0.0500 0.2725\n",
      "FoundEverything     0.0379   0.0439  0.8634 0.3896 -0.0490 0.1249\n",
      "-----------------------------------------------------------------\n",
      "Omnibus:              1739.002      Durbin-Watson:         2.023 \n",
      "Prob(Omnibus):        0.000         Jarque-Bera (JB):      14.962\n",
      "Skew:                 -0.172        Prob(JB):              0.001 \n",
      "Kurtosis:             1.347         Condition No.:         33    \n",
      "=================================================================\n",
      "\n",
      "                  Results: Ordinary least squares\n",
      "===================================================================\n",
      "Model:                OLS              Adj. R-squared:     0.077   \n",
      "Dependent Variable:   Happy            AIC:                175.6445\n",
      "Date:                 2022-06-16 18:23 BIC:                184.1534\n",
      "No. Observations:     126              Log-Likelihood:     -84.822 \n",
      "Df Model:             2                F-statistic:        6.202   \n",
      "Df Residuals:         123              Prob (F-statistic): 0.00271 \n",
      "R-squared:            0.092            Scale:              0.23053 \n",
      "-------------------------------------------------------------------\n",
      "                      Coef.  Std.Err.    t    P>|t|   [0.025 0.975]\n",
      "-------------------------------------------------------------------\n",
      "const                -0.2639   0.2399 -1.1001 0.2734 -0.7386 0.2109\n",
      "OnTime                0.1406   0.0595  2.3620 0.0197  0.0228 0.2585\n",
      "DeliverySatisfaction  0.0553   0.0415  1.3331 0.1850 -0.0268 0.1375\n",
      "-------------------------------------------------------------------\n",
      "Omnibus:              2048.064       Durbin-Watson:          1.982 \n",
      "Prob(Omnibus):        0.000          Jarque-Bera (JB):       14.596\n",
      "Skew:                 -0.181         Prob(JB):               0.001 \n",
      "Kurtosis:             1.372          Condition No.:          34    \n",
      "===================================================================\n",
      "\n"
     ]
    }
   ],
   "source": [
    "output = []\n",
    "for column in features[['GoodPrice', 'OrderCorrect', 'FoundEverything', 'DeliverySatisfaction']]:\n",
    "    xTrain = pd.DataFrame(features[['OnTime', column]])\n",
    "    #xTrain = features[column]\n",
    "    xTrain = sm.add_constant(xTrain)\n",
    "    #display (xTrain)\n",
    "    logModel = sm.OLS(target, xTrain)\n",
    "    results = logModel.fit()\n",
    "    output.append([results.summary2])#[results.pvalues.index[1], results.pvalues.values[1], results.rsquared])\n",
    "    print (results.summary2())\n",
    "#display (pd.DataFrame(output))"
   ]
  },
  {
   "cell_type": "markdown",
   "id": "8f45bb3c",
   "metadata": {},
   "source": [
    "### Logistic Regression"
   ]
  },
  {
   "cell_type": "code",
   "execution_count": 4,
   "id": "b905a61d",
   "metadata": {},
   "outputs": [
    {
     "name": "stdout",
     "output_type": "stream",
     "text": [
      "OnTime 0.6507936507936508\n",
      "OrderCorrect 0.5476190476190477\n",
      "FoundEverything 0.5555555555555556\n",
      "GoodPrice 0.5555555555555556\n",
      "DeliverySatisfaction 0.6031746031746031\n",
      "EasyToUse 0.6111111111111112\n"
     ]
    }
   ],
   "source": [
    "# Single feature logistic regression model\n",
    "for col in features.columns:\n",
    "    clf = LogisticRegression().fit(features[[col]], target)\n",
    "    predict = clf.predict(features[[col]])\n",
    "    #clf.predict_proba(features[:2, :])\n",
    "    res = (predict - target)\n",
    "    print (col, res.value_counts()[0]/126)"
   ]
  },
  {
   "cell_type": "markdown",
   "id": "98541b4f",
   "metadata": {},
   "source": [
    "### More Decision Trees"
   ]
  },
  {
   "cell_type": "code",
   "execution_count": 153,
   "id": "350c8994",
   "metadata": {},
   "outputs": [],
   "source": [
    "from sklearn import tree\n",
    "\n",
    "clf = tree.DecisionTreeClassifier(max_depth=6)\n",
    "clf = clf.fit(features, target)"
   ]
  },
  {
   "cell_type": "code",
   "execution_count": 154,
   "id": "293d5acf",
   "metadata": {},
   "outputs": [
    {
     "data": {
      "image/png": "[encoded data removed]",
      "text/plain": [
       "<Figure size 864x576 with 1 Axes>"
      ]
     },
     "metadata": {
      "needs_background": "light"
     },
     "output_type": "display_data"
    }
   ],
   "source": [
    "tmp = tree.plot_tree(clf, feature_names=features.columns.values)"
   ]
  },
  {
   "cell_type": "code",
   "execution_count": null,
   "id": "b6f29bcb",
   "metadata": {},
   "outputs": [],
   "source": []
  },
  {
   "cell_type": "markdown",
   "id": "cb430b4f",
   "metadata": {},
   "source": [
    "### Monte Carlo Cross Validation"
   ]
  },
  {
   "cell_type": "code",
   "execution_count": null,
   "id": "5f87c29f",
   "metadata": {},
   "outputs": [],
   "source": [
    "from sklearn.ensemble import RandomForestClassifier\n",
    "from sklearn.pipeline import make_pipeline\n",
    "from sklearn.preprocessing import StandardScaler\n",
    "from sklearn.svm import SVC\n",
    "    \n",
    "accuracy = []\n",
    "logAccuracy = []\n",
    "svmAccuracy = []\n",
    "ensAccuracy = []\n",
    "for i in range(0, 10):\n",
    "    train, valid = train_test_split(rawData, test_size=0.20, stratify=rawData['Happy'])\n",
    "    train_y = train.pop('Happy')\n",
    "    valid_y = valid.pop('Happy')\n",
    "    \n",
    "    #train['Sum'] = train.sum(axis=1)\n",
    "    #valid['Sum'] = valid.sum(axis=1)\n",
    "    \n",
    "    # Decision Tree\n",
    "    clf = tree.DecisionTreeClassifier(max_depth=5)\n",
    "    clf = clf.fit(train, train_y)\n",
    "    ypred = clf.predict(valid)\n",
    "\n",
    "    # Linear SVM\n",
    "    clf = SVC(kernel='linear',gamma=0.03)\n",
    "    clf.fit(train, train_y)\n",
    "    svmpred = clf.predict(valid)\n",
    "    \n",
    "    # Logistic Regression\n",
    "    train = train[['OnTime']]\n",
    "    valid = valid[['OnTime']]\n",
    "    train = sm.add_constant(train)\n",
    "    valid = sm.add_constant(valid)\n",
    "    logModel = sm.Logit(train_y, train)\n",
    "    results = logModel.fit()\n",
    "    ylogpred = results.predict(valid)\n",
    "    \n",
    "    ensem = (svmpred + ylogpred.round(0) + ypred)/3.0\n",
    "    \n",
    "    accuracy.append((ypred - valid_y).value_counts()[0]/len(valid_y))\n",
    "    logAccuracy.append((ylogpred.round(0) - valid_y).value_counts()[0.0]/len(valid_y))\n",
    "    svmAccuracy.append((svmpred - valid_y).value_counts()[0.0]/len(valid_y))\n",
    "    ensAccuracy.append((ensem.round(0) - valid_y).value_counts()[0.0]/len(valid_y))\n",
    "\n",
    "    \n",
    "print (np.array(accuracy).mean())\n",
    "print (np.array(logAccuracy).mean())\n",
    "print (np.array(svmAccuracy).mean())\n",
    "print (np.array(ensAccuracy).mean())"
   ]
  },
  {
   "cell_type": "markdown",
   "id": "a1baea60",
   "metadata": {},
   "source": [
    "#### Looking at whether the sum of the features is a useful feature"
   ]
  },
  {
   "cell_type": "code",
   "execution_count": 260,
   "id": "5c28b983",
   "metadata": {},
   "outputs": [
    {
     "data": {
      "text/plain": [
       "68     26\n",
       "93     26\n",
       "86     24\n",
       "63     27\n",
       "118    22\n",
       "       ..\n",
       "123    24\n",
       "34     14\n",
       "113    23\n",
       "43     20\n",
       "49     20\n",
       "Length: 100, dtype: int64"
      ]
     },
     "execution_count": 260,
     "metadata": {},
     "output_type": "execute_result"
    }
   ],
   "source": [
    "train.sum(axis=1)"
   ]
  },
  {
   "cell_type": "code",
   "execution_count": 262,
   "id": "2269d4a5",
   "metadata": {},
   "outputs": [],
   "source": [
    "tst = train.copy()"
   ]
  },
  {
   "cell_type": "code",
   "execution_count": 264,
   "id": "333c56ed",
   "metadata": {},
   "outputs": [],
   "source": [
    "tst['Sum'] = tst.sum(axis=1) "
   ]
  },
  {
   "cell_type": "code",
   "execution_count": 269,
   "id": "f658d169",
   "metadata": {},
   "outputs": [
    {
     "data": {
      "text/plain": [
       "68     1\n",
       "93     1\n",
       "86     1\n",
       "63     0\n",
       "118    1\n",
       "      ..\n",
       "123    1\n",
       "34     1\n",
       "113    0\n",
       "43     0\n",
       "49     1\n",
       "Name: Happy, Length: 100, dtype: int64"
      ]
     },
     "execution_count": 269,
     "metadata": {},
     "output_type": "execute_result"
    }
   ],
   "source": [
    "train_y#,tst['Sum']"
   ]
  },
  {
   "cell_type": "code",
   "execution_count": 419,
   "id": "c95351af",
   "metadata": {},
   "outputs": [
    {
     "data": {
      "text/plain": [
       "[0.4230769230769231,\n",
       " 0.5,\n",
       " 0.5384615384615384,\n",
       " 0.46153846153846156,\n",
       " 0.6538461538461539,\n",
       " 0.5384615384615384,\n",
       " 0.5769230769230769,\n",
       " 0.46153846153846156,\n",
       " 0.5,\n",
       " 0.5384615384615384]"
      ]
     },
     "execution_count": 419,
     "metadata": {},
     "output_type": "execute_result"
    }
   ],
   "source": [
    "accuracy"
   ]
  },
  {
   "cell_type": "code",
   "execution_count": 420,
   "id": "98080cb6",
   "metadata": {},
   "outputs": [
    {
     "data": {
      "text/plain": [
       "[0.6153846153846154,\n",
       " 0.5769230769230769,\n",
       " 0.6538461538461539,\n",
       " 0.6538461538461539,\n",
       " 0.6538461538461539,\n",
       " 0.7307692307692307,\n",
       " 0.5384615384615384,\n",
       " 0.5769230769230769,\n",
       " 0.5384615384615384,\n",
       " 0.6923076923076923]"
      ]
     },
     "execution_count": 420,
     "metadata": {},
     "output_type": "execute_result"
    }
   ],
   "source": [
    "logAccuracy"
   ]
  },
  {
   "cell_type": "code",
   "execution_count": 483,
   "id": "73bda15e",
   "metadata": {},
   "outputs": [
    {
     "data": {
      "text/plain": [
       "114    1.680716\n",
       "23     0.680716\n",
       "86     1.680716\n",
       "53     1.680716\n",
       "119    1.680716\n",
       "88     1.680716\n",
       "118    0.491038\n",
       "4      1.680716\n",
       "105    1.680716\n",
       "113    1.680716\n",
       "70     0.491038\n",
       "13     0.491038\n",
       "51     1.680716\n",
       "9      1.491038\n",
       "8      1.491038\n",
       "96     0.491038\n",
       "66     0.303906\n",
       "38     1.680716\n",
       "22     1.491038\n",
       "117    1.680716\n",
       "49     1.680716\n",
       "44     0.303906\n",
       "111    1.680716\n",
       "34     0.491038\n",
       "31     1.491038\n",
       "98     0.491038\n",
       "dtype: float64"
      ]
     },
     "execution_count": 483,
     "metadata": {},
     "output_type": "execute_result"
    }
   ],
   "source": [
    "svmpred + ylogpred"
   ]
  },
  {
   "cell_type": "code",
   "execution_count": 482,
   "id": "6c8af552",
   "metadata": {},
   "outputs": [
    {
     "data": {
      "text/plain": [
       "114    1.0\n",
       "23     1.0\n",
       "86     1.0\n",
       "53     1.0\n",
       "119    1.0\n",
       "88     1.0\n",
       "118    0.0\n",
       "4      1.0\n",
       "105    1.0\n",
       "113    1.0\n",
       "70     0.0\n",
       "13     0.0\n",
       "51     1.0\n",
       "9      0.0\n",
       "8      0.0\n",
       "96     0.0\n",
       "66     0.0\n",
       "38     1.0\n",
       "22     0.0\n",
       "117    1.0\n",
       "49     1.0\n",
       "44     0.0\n",
       "111    1.0\n",
       "34     0.0\n",
       "31     0.0\n",
       "98     0.0\n",
       "dtype: float64"
      ]
     },
     "execution_count": 482,
     "metadata": {},
     "output_type": "execute_result"
    }
   ],
   "source": [
    "# Trying a mixture of the models\n",
    "for col in features.columns:\n",
    "    logAccuracy = []\n",
    "    for i in range(0, 10):\n",
    "        train, valid = train_test_split(rawData, test_size=0.20, stratify=rawData['Happy'])\n",
    "        train_y = train.pop('Happy')\n",
    "        valid_y = valid.pop('Happy')\n",
    "\n",
    "        train = train[[col]]\n",
    "        valid = valid[[col]]\n",
    "        train = sm.add_constant(train)\n",
    "        valid = sm.add_constant(valid)\n",
    "        logModel = sm.Logit(train_y, train)\n",
    "        results = logModel.fit()\n",
    "        ylogpred = results.predict(valid)\n",
    "\n",
    "        ensem = (svmpred + ylogpred.round(0) + ypred)/3.0\n",
    "\n",
    "        logAccuracy.append((ylogpred.round(0) - valid_y).value_counts()[0.0]/len(valid_y))\n",
    "\n",
    "\n",
    "    print (np.array(logAccuracy).mean())"
   ]
  },
  {
   "cell_type": "code",
   "execution_count": 500,
   "id": "7b6990e1",
   "metadata": {},
   "outputs": [
    {
     "data": {
      "text/plain": [
       "Happy  OnTime  OrderCorrect  FoundEverything  GoodPrice  DeliverySatisfaction  EasyToUse\n",
       "1      5       1             3                3          4                     4            3\n",
       "               5             5                5          5                     5            2\n",
       "               3             3                4          4                     5            2\n",
       "0      5       4             3                3          3                     5            2\n",
       "1      4       1             3                4          4                     4            2\n",
       "                                                                                           ..\n",
       "0      4       5             5                5          1                     3            1\n",
       "               4             4                4          3                     4            1\n",
       "                                                         1                     3            1\n",
       "                                              2          5                     5            1\n",
       "1      3       2             4                3          4                     4            1\n",
       "Length: 110, dtype: int64"
      ]
     },
     "execution_count": 500,
     "metadata": {},
     "output_type": "execute_result"
    }
   ],
   "source": [
    "rawData.value_counts()"
   ]
  },
  {
   "cell_type": "markdown",
   "id": "57e18c8e",
   "metadata": {},
   "source": [
    "## Random Forest"
   ]
  },
  {
   "cell_type": "code",
   "execution_count": 79,
   "id": "7cdb2a3c",
   "metadata": {},
   "outputs": [
    {
     "name": "stdout",
     "output_type": "stream",
     "text": [
      "OnTime OrderCorrect 0.5046153846153847\n",
      "OnTime FoundEverything 0.5461538461538462\n",
      "OnTime GoodPrice 0.48230769230769227\n",
      "OnTime DeliverySatisfaction 0.5234615384615384\n",
      "OnTime EasyToUse 0.5726923076923077\n",
      "OrderCorrect OnTime 0.5015384615384616\n",
      "OrderCorrect FoundEverything 0.5984615384615384\n",
      "OrderCorrect GoodPrice 0.6426923076923078\n",
      "OrderCorrect DeliverySatisfaction 0.6788461538461539\n",
      "OrderCorrect EasyToUse 0.6046153846153846\n",
      "FoundEverything OnTime 0.541923076923077\n",
      "FoundEverything OrderCorrect 0.5823076923076923\n",
      "FoundEverything GoodPrice 0.6215384615384615\n",
      "FoundEverything DeliverySatisfaction 0.5746153846153846\n",
      "FoundEverything EasyToUse 0.6030769230769232\n",
      "GoodPrice OnTime 0.4896153846153846\n",
      "GoodPrice OrderCorrect 0.6438461538461538\n",
      "GoodPrice FoundEverything 0.626923076923077\n",
      "GoodPrice DeliverySatisfaction 0.606153846153846\n",
      "GoodPrice EasyToUse 0.5961538461538461\n",
      "DeliverySatisfaction OnTime 0.5265384615384616\n",
      "DeliverySatisfaction OrderCorrect 0.6865384615384614\n",
      "DeliverySatisfaction FoundEverything 0.5723076923076922\n",
      "DeliverySatisfaction GoodPrice 0.6073076923076922\n",
      "DeliverySatisfaction EasyToUse 0.5942307692307692\n",
      "EasyToUse OnTime 0.5811538461538461\n",
      "EasyToUse OrderCorrect 0.5823076923076924\n",
      "EasyToUse FoundEverything 0.5973076923076923\n",
      "EasyToUse GoodPrice 0.5796153846153846\n",
      "EasyToUse DeliverySatisfaction 0.5957692307692307\n"
     ]
    }
   ],
   "source": [
    "from sklearn.ensemble import RandomForestClassifier\n",
    "from sklearn.pipeline import make_pipeline\n",
    "from sklearn.preprocessing import StandardScaler\n",
    "from sklearn.svm import SVC\n",
    "\n",
    "# Loop through and try with various features removed\n",
    "remove = ['OnTime','OrderCorrect','FoundEverything','GoodPrice','DeliverySatisfaction','EasyToUse']\n",
    "for cat in remove:\n",
    "    remove2 = ['OnTime','OrderCorrect','FoundEverything','GoodPrice','DeliverySatisfaction','EasyToUse']\n",
    "    for cat2 in remove2:\n",
    "        if (cat2 != cat):\n",
    "            accuracy = []\n",
    "            for i in range(0, 100):\n",
    "                train, valid = train_test_split(rawData, test_size=0.20, stratify=rawData['Happy'])\n",
    "                train_y = train.pop('Happy')\n",
    "                valid_y = valid.pop('Happy')\n",
    "\n",
    "                train.pop(cat)\n",
    "                valid.pop(cat)\n",
    "                \n",
    "                train.pop(cat2)\n",
    "                valid.pop(cat2)\n",
    "\n",
    "                #train['Sum'] = train.sum(axis=1)\n",
    "                #valid['Sum'] = valid.sum(axis=1)\n",
    "\n",
    "                # Random forest model\n",
    "                clf = RandomForestClassifier()\n",
    "                clf = clf.fit(train, train_y)\n",
    "                ypred = clf.predict(valid)\n",
    "\n",
    "                accuracy.append((ypred - valid_y).value_counts()[0]/len(valid_y))\n",
    "\n",
    "            print (cat, cat2, np.array(accuracy).mean())"
   ]
  },
  {
   "cell_type": "code",
   "execution_count": 150,
   "id": "09fa6ee3",
   "metadata": {},
   "outputs": [
    {
     "name": "stdout",
     "output_type": "stream",
     "text": [
      "0.5819270957194472 0.9554916359783463\n"
     ]
    }
   ],
   "source": [
    "from sklearn.ensemble import RandomForestClassifier\n",
    "from sklearn.pipeline import make_pipeline\n",
    "from sklearn.preprocessing import StandardScaler\n",
    "from sklearn.svm import SVC\n",
    "import random\n",
    "\n",
    "trainAccuracy = []\n",
    "accuracy = []\n",
    "for i in range(0, 100):\n",
    "    randSize = (random.random()*0.9)/2.0 + 0.05\n",
    "    train, valid = train_test_split(rawData, test_size=randSize, stratify=rawData['Happy'])\n",
    "    train_y = train.pop('Happy')\n",
    "    valid_y = valid.pop('Happy')\n",
    "\n",
    "    #train['Sum'] = train.sum(axis=1)\n",
    "    #valid['Sum'] = valid.sum(axis=1)\n",
    "\n",
    "    clf = RandomForestClassifier(n_estimators=100, max_depth=11, min_samples_leaf=1, min_samples_split=2)\n",
    "    clf = clf.fit(train, train_y)\n",
    "    ypred = clf.predict(valid)\n",
    "    ypredTrain = clf.predict(train)\n",
    "\n",
    "    trainAccuracy.append((ypredTrain - train_y).value_counts()[0]/len(train_y))        \n",
    "    accuracy.append((ypred - valid_y).value_counts()[0]/len(valid_y))\n",
    "\n",
    "print (np.array(accuracy).mean(), np.array(trainAccuracy).mean())"
   ]
  },
  {
   "cell_type": "markdown",
   "id": "d1bfe738",
   "metadata": {},
   "source": [
    "### Naive Bayes\n",
    "- Gaussian may not be a good assumption here"
   ]
  },
  {
   "cell_type": "code",
   "execution_count": 151,
   "id": "63d92d37",
   "metadata": {},
   "outputs": [
    {
     "name": "stdout",
     "output_type": "stream",
     "text": [
      "0.5576891253608917 0.6041051323124216\n"
     ]
    }
   ],
   "source": [
    "from sklearn.naive_bayes import GaussianNB\n",
    "\n",
    "trainAccuracy = []\n",
    "accuracy = []\n",
    "for i in range(0, 100):\n",
    "    randSize = (random.random()*0.9)/2.0 + 0.05\n",
    "    train, valid = train_test_split(rawData, test_size=randSize, stratify=rawData['Happy'])\n",
    "    train_y = train.pop('Happy')\n",
    "    valid_y = valid.pop('Happy')\n",
    "\n",
    "    #train['Sum'] = train.sum(axis=1)\n",
    "    #valid['Sum'] = valid.sum(axis=1)\n",
    "\n",
    "    clf = GaussianNB()\n",
    "    clf = clf.fit(train, train_y)\n",
    "    ypred = clf.predict(valid)\n",
    "    ypredTrain = clf.predict(train)\n",
    "\n",
    "    trainAccuracy.append((ypredTrain - train_y).value_counts()[0]/len(train_y))        \n",
    "    accuracy.append((ypred - valid_y).value_counts()[0]/len(valid_y))\n",
    "\n",
    "print (np.array(accuracy).mean(), np.array(trainAccuracy).mean())"
   ]
  },
  {
   "cell_type": "markdown",
   "id": "66a2e738",
   "metadata": {},
   "source": [
    "### More Random Forest with Monte Carlo cross validation, removing a few features"
   ]
  },
  {
   "cell_type": "code",
   "execution_count": 152,
   "id": "25d52c12",
   "metadata": {},
   "outputs": [
    {
     "name": "stdout",
     "output_type": "stream",
     "text": [
      "OrderCorrect 0.5574475228350022 0.5979904595250453\n",
      "GoodPrice 0.5478200534238187 0.5998107703978792\n",
      "DeliverySatisfaction 0.555566423481298 0.6077868024424213\n"
     ]
    }
   ],
   "source": [
    "from sklearn.ensemble import RandomForestClassifier\n",
    "from sklearn.pipeline import make_pipeline\n",
    "from sklearn.preprocessing import StandardScaler\n",
    "from sklearn.svm import SVC\n",
    "import random\n",
    "\n",
    "remove = ['OrderCorrect','GoodPrice','DeliverySatisfaction']\n",
    "for cat in remove:\n",
    "    trainAccuracy = []\n",
    "    accuracy = []\n",
    "    for i in range(0, 100):\n",
    "        randSize = (random.random()*0.9)/2.0 + 0.05\n",
    "        train, valid = train_test_split(rawData, test_size=randSize, stratify=rawData['Happy'])\n",
    "        train_y = train.pop('Happy')\n",
    "        valid_y = valid.pop('Happy')\n",
    "\n",
    "        train.pop(cat)\n",
    "        valid.pop(cat)\n",
    "\n",
    "        #train['Sum'] = train.sum(axis=1)\n",
    "        #valid['Sum'] = valid.sum(axis=1)\n",
    "\n",
    "        clf = RandomForestClassifier(n_estimators=100, max_depth=11, min_samples_leaf=1, min_samples_split=2)\n",
    "        clf = clf.fit(train, train_y)\n",
    "        ypred = clf.predict(valid)\n",
    "        ypredTrain = clf.predict(train)\n",
    "                \n",
    "        trainAccuracy.append((ypredTrain - train_y).value_counts()[0]/len(train_y))        \n",
    "        accuracy.append((ypred - valid_y).value_counts()[0]/len(valid_y))\n",
    "\n",
    "    print (cat, np.array(accuracy).mean(), np.array(trainAccuracy).mean())"
   ]
  },
  {
   "cell_type": "code",
   "execution_count": 153,
   "id": "6894e4c5",
   "metadata": {},
   "outputs": [
    {
     "name": "stdout",
     "output_type": "stream",
     "text": [
      "OrderCorrect GoodPrice 0.5595809040289486 0.5921782080872452\n",
      "OrderCorrect DeliverySatisfaction 0.5315328536883868 0.6023436887932339\n",
      "GoodPrice DeliverySatisfaction 0.5425059835813566 0.6012567756185043\n"
     ]
    }
   ],
   "source": [
    "from sklearn.ensemble import RandomForestClassifier\n",
    "from sklearn.pipeline import make_pipeline\n",
    "from sklearn.preprocessing import StandardScaler\n",
    "from sklearn.svm import SVC\n",
    "import random\n",
    "\n",
    "\n",
    "remove = ['OrderCorrect','GoodPrice','DeliverySatisfaction']\n",
    "for i in range(0, 3):\n",
    "    cat = remove[i]\n",
    "    for j in range(i+1, 3):\n",
    "        cat2 = remove[j]\n",
    "        trainAccuracy = []\n",
    "        accuracy = []\n",
    "        for i in range(0, 100):\n",
    "            randSize = (random.random()*0.9)/2.0 + 0.05\n",
    "            train, valid = train_test_split(rawData, test_size=randSize, stratify=rawData['Happy'])\n",
    "            train_y = train.pop('Happy')\n",
    "            valid_y = valid.pop('Happy')\n",
    "\n",
    "            train.pop(cat)\n",
    "            valid.pop(cat)\n",
    "\n",
    "            train.pop(cat2)\n",
    "            valid.pop(cat2)\n",
    "\n",
    "            #train['Sum'] = train.sum(axis=1)\n",
    "            #valid['Sum'] = valid.sum(axis=1)\n",
    "\n",
    "            clf = RandomForestClassifier(n_estimators=100, max_depth=11, min_samples_leaf=1, min_samples_split=2)\n",
    "            clf = clf.fit(train, train_y)\n",
    "            ypred = clf.predict(valid)\n",
    "            ypred = clf.predict(valid)\n",
    "            ypredTrain = clf.predict(train)\n",
    "            trainAccuracy.append((ypredTrain - train_y).value_counts()[0]/len(train_y))\n",
    "            accuracy.append((ypred - valid_y).value_counts()[0]/len(valid_y))\n",
    "\n",
    "        print (cat, cat2, np.array(accuracy).mean(), np.array(trainAccuracy).mean())"
   ]
  },
  {
   "cell_type": "code",
   "execution_count": 131,
   "id": "d029c040",
   "metadata": {},
   "outputs": [
    {
     "name": "stdout",
     "output_type": "stream",
     "text": [
      "OnTime OrderCorrect FoundEverything 0.5130769230769231 0.7354\n",
      "OnTime OrderCorrect GoodPrice 0.5038461538461538 0.7452\n",
      "OnTime OrderCorrect DeliverySatisfaction 0.5769230769230769 0.7526\n",
      "OnTime OrderCorrect EasyToUse 0.5584615384615383 0.7777999999999998\n",
      "OnTime FoundEverything GoodPrice 0.5776923076923077 0.7774\n",
      "OnTime FoundEverything DeliverySatisfaction 0.4846153846153845 0.7380000000000001\n",
      "OnTime FoundEverything EasyToUse 0.5984615384615385 0.8118000000000001\n",
      "OnTime GoodPrice DeliverySatisfaction 0.48615384615384616 0.7583999999999999\n",
      "OnTime GoodPrice EasyToUse 0.5438461538461539 0.7928000000000001\n",
      "OnTime DeliverySatisfaction EasyToUse 0.48923076923076925 0.7736\n",
      "OrderCorrect FoundEverything GoodPrice 0.63 0.78\n",
      "OrderCorrect FoundEverything DeliverySatisfaction 0.6292307692307691 0.7464000000000002\n",
      "OrderCorrect FoundEverything EasyToUse 0.5984615384615385 0.7913999999999999\n",
      "OrderCorrect GoodPrice DeliverySatisfaction 0.6823076923076923 0.8062\n",
      "OrderCorrect GoodPrice EasyToUse 0.6169230769230769 0.8136\n",
      "OrderCorrect DeliverySatisfaction EasyToUse 0.6023076923076923 0.7834\n",
      "FoundEverything GoodPrice DeliverySatisfaction 0.5700000000000001 0.7273999999999999\n",
      "FoundEverything GoodPrice EasyToUse 0.64 0.8262\n",
      "FoundEverything DeliverySatisfaction EasyToUse 0.6023076923076922 0.786\n",
      "GoodPrice DeliverySatisfaction EasyToUse 0.5738461538461538 0.7706000000000001\n"
     ]
    }
   ],
   "source": [
    "from sklearn.ensemble import RandomForestClassifier\n",
    "from sklearn.pipeline import make_pipeline\n",
    "from sklearn.preprocessing import StandardScaler\n",
    "from sklearn.svm import SVC\n",
    "\n",
    "remove = ['OnTime','OrderCorrect','FoundEverything','GoodPrice','DeliverySatisfaction','EasyToUse']\n",
    "for i in range(0, 6):\n",
    "    cat = remove[i]\n",
    "    for j in range(i+1, 6):\n",
    "        cat2 = remove[j]\n",
    "        for k in range(j+1, 6):\n",
    "            cat3 = remove[k]\n",
    "            trainAccuracy = []\n",
    "            accuracy = []\n",
    "            for i in range(0, 50):\n",
    "                train, valid = train_test_split(rawData, test_size=0.20, stratify=rawData['Happy'])\n",
    "                train_y = train.pop('Happy')\n",
    "                valid_y = valid.pop('Happy')\n",
    "\n",
    "                train.pop(cat)\n",
    "                valid.pop(cat)\n",
    "\n",
    "                train.pop(cat2)\n",
    "                valid.pop(cat2)\n",
    "\n",
    "                train.pop(cat3)\n",
    "                valid.pop(cat3)\n",
    "\n",
    "                #train['Sum'] = train.sum(axis=1)\n",
    "                #valid['Sum'] = valid.sum(axis=1)\n",
    "\n",
    "                clf = RandomForestClassifier(n_estimators=200, max_depth=9)\n",
    "                clf = clf.fit(train, train_y)\n",
    "                ypred = clf.predict(valid)\n",
    "                ypred = clf.predict(valid)\n",
    "                ypredTrain = clf.predict(train)\n",
    "                trainAccuracy.append((ypredTrain - train_y).value_counts()[0]/len(train_y))\n",
    "                accuracy.append((ypred - valid_y).value_counts()[0]/len(valid_y))\n",
    "\n",
    "            print (cat, cat2, cat3, np.array(accuracy).mean(), np.array(trainAccuracy).mean())"
   ]
  },
  {
   "cell_type": "code",
   "execution_count": 87,
   "id": "e367c7cc",
   "metadata": {},
   "outputs": [
    {
     "name": "stdout",
     "output_type": "stream",
     "text": [
      "OnTime OrderCorrect 0.5215384615384615 0.8316\n",
      "OnTime FoundEverything 0.5630769230769231 0.8522\n",
      "OnTime GoodPrice 0.5123076923076924 0.8484\n",
      "OnTime DeliverySatisfaction 0.5261538461538462 0.8534\n",
      "OnTime EasyToUse 0.6069230769230769 0.8704000000000001\n",
      "OrderCorrect OnTime 0.5061538461538462 0.8345999999999999\n",
      "OrderCorrect FoundEverything 0.5838461538461538 0.8088000000000001\n",
      "OrderCorrect GoodPrice 0.6507692307692308 0.8452\n",
      "OrderCorrect DeliverySatisfaction 0.6753846153846155 0.8748\n",
      "OrderCorrect EasyToUse 0.6076923076923076 0.8573999999999999\n"
     ]
    },
    {
     "ename": "KeyboardInterrupt",
     "evalue": "",
     "output_type": "error",
     "traceback": [
      "\u001b[0;31m---------------------------------------------------------------------------\u001b[0m",
      "\u001b[0;31mKeyboardInterrupt\u001b[0m                         Traceback (most recent call last)",
      "\u001b[0;32m/var/folders/bq/bn5hpd0j353fngnlr05t3s7c0000gp/T/ipykernel_10426/3548372931.py\u001b[0m in \u001b[0;36m<module>\u001b[0;34m\u001b[0m\n\u001b[1;32m     26\u001b[0m \u001b[0;34m\u001b[0m\u001b[0m\n\u001b[1;32m     27\u001b[0m                 \u001b[0mclf\u001b[0m \u001b[0;34m=\u001b[0m \u001b[0mRandomForestClassifier\u001b[0m\u001b[0;34m(\u001b[0m\u001b[0mn_estimators\u001b[0m\u001b[0;34m=\u001b[0m\u001b[0;36m500\u001b[0m\u001b[0;34m,\u001b[0m \u001b[0mmax_depth\u001b[0m\u001b[0;34m=\u001b[0m\u001b[0;36m7\u001b[0m\u001b[0;34m)\u001b[0m\u001b[0;34m\u001b[0m\u001b[0;34m\u001b[0m\u001b[0m\n\u001b[0;32m---> 28\u001b[0;31m                 \u001b[0mclf\u001b[0m \u001b[0;34m=\u001b[0m \u001b[0mclf\u001b[0m\u001b[0;34m.\u001b[0m\u001b[0mfit\u001b[0m\u001b[0;34m(\u001b[0m\u001b[0mtrain\u001b[0m\u001b[0;34m,\u001b[0m \u001b[0mtrain_y\u001b[0m\u001b[0;34m)\u001b[0m\u001b[0;34m\u001b[0m\u001b[0;34m\u001b[0m\u001b[0m\n\u001b[0m\u001b[1;32m     29\u001b[0m                 \u001b[0mypred\u001b[0m \u001b[0;34m=\u001b[0m \u001b[0mclf\u001b[0m\u001b[0;34m.\u001b[0m\u001b[0mpredict\u001b[0m\u001b[0;34m(\u001b[0m\u001b[0mvalid\u001b[0m\u001b[0;34m)\u001b[0m\u001b[0;34m\u001b[0m\u001b[0;34m\u001b[0m\u001b[0m\n\u001b[1;32m     30\u001b[0m                 \u001b[0mypredTrain\u001b[0m \u001b[0;34m=\u001b[0m \u001b[0mclf\u001b[0m\u001b[0;34m.\u001b[0m\u001b[0mpredict\u001b[0m\u001b[0;34m(\u001b[0m\u001b[0mtrain\u001b[0m\u001b[0;34m)\u001b[0m\u001b[0;34m\u001b[0m\u001b[0;34m\u001b[0m\u001b[0m\n",
      "\u001b[0;32m/usr/local/anaconda3/lib/python3.7/site-packages/sklearn/ensemble/_forest.py\u001b[0m in \u001b[0;36mfit\u001b[0;34m(self, X, y, sample_weight)\u001b[0m\n\u001b[1;32m    377\u001b[0m             trees = [self._make_estimator(append=False,\n\u001b[1;32m    378\u001b[0m                                           random_state=random_state)\n\u001b[0;32m--> 379\u001b[0;31m                      for i in range(n_more_estimators)]\n\u001b[0m\u001b[1;32m    380\u001b[0m \u001b[0;34m\u001b[0m\u001b[0m\n\u001b[1;32m    381\u001b[0m             \u001b[0;31m# Parallel loop: we prefer the threading backend as the Cython code\u001b[0m\u001b[0;34m\u001b[0m\u001b[0;34m\u001b[0m\u001b[0;34m\u001b[0m\u001b[0m\n",
      "\u001b[0;32m/usr/local/anaconda3/lib/python3.7/site-packages/sklearn/ensemble/_forest.py\u001b[0m in \u001b[0;36m<listcomp>\u001b[0;34m(.0)\u001b[0m\n\u001b[1;32m    377\u001b[0m             trees = [self._make_estimator(append=False,\n\u001b[1;32m    378\u001b[0m                                           random_state=random_state)\n\u001b[0;32m--> 379\u001b[0;31m                      for i in range(n_more_estimators)]\n\u001b[0m\u001b[1;32m    380\u001b[0m \u001b[0;34m\u001b[0m\u001b[0m\n\u001b[1;32m    381\u001b[0m             \u001b[0;31m# Parallel loop: we prefer the threading backend as the Cython code\u001b[0m\u001b[0;34m\u001b[0m\u001b[0;34m\u001b[0m\u001b[0;34m\u001b[0m\u001b[0m\n",
      "\u001b[0;32m/usr/local/anaconda3/lib/python3.7/site-packages/sklearn/ensemble/_base.py\u001b[0m in \u001b[0;36m_make_estimator\u001b[0;34m(self, append, random_state)\u001b[0m\n\u001b[1;32m    153\u001b[0m \u001b[0;34m\u001b[0m\u001b[0m\n\u001b[1;32m    154\u001b[0m         \u001b[0;32mif\u001b[0m \u001b[0mrandom_state\u001b[0m \u001b[0;32mis\u001b[0m \u001b[0;32mnot\u001b[0m \u001b[0;32mNone\u001b[0m\u001b[0;34m:\u001b[0m\u001b[0;34m\u001b[0m\u001b[0;34m\u001b[0m\u001b[0m\n\u001b[0;32m--> 155\u001b[0;31m             \u001b[0m_set_random_states\u001b[0m\u001b[0;34m(\u001b[0m\u001b[0mestimator\u001b[0m\u001b[0;34m,\u001b[0m \u001b[0mrandom_state\u001b[0m\u001b[0;34m)\u001b[0m\u001b[0;34m\u001b[0m\u001b[0;34m\u001b[0m\u001b[0m\n\u001b[0m\u001b[1;32m    156\u001b[0m \u001b[0;34m\u001b[0m\u001b[0m\n\u001b[1;32m    157\u001b[0m         \u001b[0;32mif\u001b[0m \u001b[0mappend\u001b[0m\u001b[0;34m:\u001b[0m\u001b[0;34m\u001b[0m\u001b[0;34m\u001b[0m\u001b[0m\n",
      "\u001b[0;32m/usr/local/anaconda3/lib/python3.7/site-packages/sklearn/ensemble/_base.py\u001b[0m in \u001b[0;36m_set_random_states\u001b[0;34m(estimator, random_state)\u001b[0m\n\u001b[1;32m     76\u001b[0m \u001b[0;34m\u001b[0m\u001b[0m\n\u001b[1;32m     77\u001b[0m     \u001b[0;32mif\u001b[0m \u001b[0mto_set\u001b[0m\u001b[0;34m:\u001b[0m\u001b[0;34m\u001b[0m\u001b[0;34m\u001b[0m\u001b[0m\n\u001b[0;32m---> 78\u001b[0;31m         \u001b[0mestimator\u001b[0m\u001b[0;34m.\u001b[0m\u001b[0mset_params\u001b[0m\u001b[0;34m(\u001b[0m\u001b[0;34m**\u001b[0m\u001b[0mto_set\u001b[0m\u001b[0;34m)\u001b[0m\u001b[0;34m\u001b[0m\u001b[0;34m\u001b[0m\u001b[0m\n\u001b[0m\u001b[1;32m     79\u001b[0m \u001b[0;34m\u001b[0m\u001b[0m\n\u001b[1;32m     80\u001b[0m \u001b[0;34m\u001b[0m\u001b[0m\n",
      "\u001b[0;32m/usr/local/anaconda3/lib/python3.7/site-packages/sklearn/base.py\u001b[0m in \u001b[0;36mset_params\u001b[0;34m(self, **params)\u001b[0m\n\u001b[1;32m    222\u001b[0m             \u001b[0;31m# Simple optimization to gain speed (inspect is slow)\u001b[0m\u001b[0;34m\u001b[0m\u001b[0;34m\u001b[0m\u001b[0;34m\u001b[0m\u001b[0m\n\u001b[1;32m    223\u001b[0m             \u001b[0;32mreturn\u001b[0m \u001b[0mself\u001b[0m\u001b[0;34m\u001b[0m\u001b[0;34m\u001b[0m\u001b[0m\n\u001b[0;32m--> 224\u001b[0;31m         \u001b[0mvalid_params\u001b[0m \u001b[0;34m=\u001b[0m \u001b[0mself\u001b[0m\u001b[0;34m.\u001b[0m\u001b[0mget_params\u001b[0m\u001b[0;34m(\u001b[0m\u001b[0mdeep\u001b[0m\u001b[0;34m=\u001b[0m\u001b[0;32mTrue\u001b[0m\u001b[0;34m)\u001b[0m\u001b[0;34m\u001b[0m\u001b[0;34m\u001b[0m\u001b[0m\n\u001b[0m\u001b[1;32m    225\u001b[0m \u001b[0;34m\u001b[0m\u001b[0m\n\u001b[1;32m    226\u001b[0m         \u001b[0mnested_params\u001b[0m \u001b[0;34m=\u001b[0m \u001b[0mdefaultdict\u001b[0m\u001b[0;34m(\u001b[0m\u001b[0mdict\u001b[0m\u001b[0;34m)\u001b[0m  \u001b[0;31m# grouped by prefix\u001b[0m\u001b[0;34m\u001b[0m\u001b[0;34m\u001b[0m\u001b[0m\n",
      "\u001b[0;32m/usr/local/anaconda3/lib/python3.7/site-packages/sklearn/base.py\u001b[0m in \u001b[0;36mget_params\u001b[0;34m(self, deep)\u001b[0m\n\u001b[1;32m    192\u001b[0m         \"\"\"\n\u001b[1;32m    193\u001b[0m         \u001b[0mout\u001b[0m \u001b[0;34m=\u001b[0m \u001b[0mdict\u001b[0m\u001b[0;34m(\u001b[0m\u001b[0;34m)\u001b[0m\u001b[0;34m\u001b[0m\u001b[0;34m\u001b[0m\u001b[0m\n\u001b[0;32m--> 194\u001b[0;31m         \u001b[0;32mfor\u001b[0m \u001b[0mkey\u001b[0m \u001b[0;32min\u001b[0m \u001b[0mself\u001b[0m\u001b[0;34m.\u001b[0m\u001b[0m_get_param_names\u001b[0m\u001b[0;34m(\u001b[0m\u001b[0;34m)\u001b[0m\u001b[0;34m:\u001b[0m\u001b[0;34m\u001b[0m\u001b[0;34m\u001b[0m\u001b[0m\n\u001b[0m\u001b[1;32m    195\u001b[0m             \u001b[0mvalue\u001b[0m \u001b[0;34m=\u001b[0m \u001b[0mgetattr\u001b[0m\u001b[0;34m(\u001b[0m\u001b[0mself\u001b[0m\u001b[0;34m,\u001b[0m \u001b[0mkey\u001b[0m\u001b[0;34m)\u001b[0m\u001b[0;34m\u001b[0m\u001b[0;34m\u001b[0m\u001b[0m\n\u001b[1;32m    196\u001b[0m             \u001b[0;32mif\u001b[0m \u001b[0mdeep\u001b[0m \u001b[0;32mand\u001b[0m \u001b[0mhasattr\u001b[0m\u001b[0;34m(\u001b[0m\u001b[0mvalue\u001b[0m\u001b[0;34m,\u001b[0m \u001b[0;34m'get_params'\u001b[0m\u001b[0;34m)\u001b[0m\u001b[0;34m:\u001b[0m\u001b[0;34m\u001b[0m\u001b[0;34m\u001b[0m\u001b[0m\n",
      "\u001b[0;32m/usr/local/anaconda3/lib/python3.7/site-packages/sklearn/base.py\u001b[0m in \u001b[0;36m_get_param_names\u001b[0;34m(cls)\u001b[0m\n\u001b[1;32m    161\u001b[0m         \u001b[0;31m# introspect the constructor arguments to find the model parameters\u001b[0m\u001b[0;34m\u001b[0m\u001b[0;34m\u001b[0m\u001b[0;34m\u001b[0m\u001b[0m\n\u001b[1;32m    162\u001b[0m         \u001b[0;31m# to represent\u001b[0m\u001b[0;34m\u001b[0m\u001b[0;34m\u001b[0m\u001b[0;34m\u001b[0m\u001b[0m\n\u001b[0;32m--> 163\u001b[0;31m         \u001b[0minit_signature\u001b[0m \u001b[0;34m=\u001b[0m \u001b[0minspect\u001b[0m\u001b[0;34m.\u001b[0m\u001b[0msignature\u001b[0m\u001b[0;34m(\u001b[0m\u001b[0minit\u001b[0m\u001b[0;34m)\u001b[0m\u001b[0;34m\u001b[0m\u001b[0;34m\u001b[0m\u001b[0m\n\u001b[0m\u001b[1;32m    164\u001b[0m         \u001b[0;31m# Consider the constructor parameters excluding 'self'\u001b[0m\u001b[0;34m\u001b[0m\u001b[0;34m\u001b[0m\u001b[0;34m\u001b[0m\u001b[0m\n\u001b[1;32m    165\u001b[0m         parameters = [p for p in init_signature.parameters.values()\n",
      "\u001b[0;32m/usr/local/anaconda3/lib/python3.7/inspect.py\u001b[0m in \u001b[0;36msignature\u001b[0;34m(obj, follow_wrapped)\u001b[0m\n\u001b[1;32m   3081\u001b[0m \u001b[0;32mdef\u001b[0m \u001b[0msignature\u001b[0m\u001b[0;34m(\u001b[0m\u001b[0mobj\u001b[0m\u001b[0;34m,\u001b[0m \u001b[0;34m*\u001b[0m\u001b[0;34m,\u001b[0m \u001b[0mfollow_wrapped\u001b[0m\u001b[0;34m=\u001b[0m\u001b[0;32mTrue\u001b[0m\u001b[0;34m)\u001b[0m\u001b[0;34m:\u001b[0m\u001b[0;34m\u001b[0m\u001b[0;34m\u001b[0m\u001b[0m\n\u001b[1;32m   3082\u001b[0m     \u001b[0;34m\"\"\"Get a signature object for the passed callable.\"\"\"\u001b[0m\u001b[0;34m\u001b[0m\u001b[0;34m\u001b[0m\u001b[0m\n\u001b[0;32m-> 3083\u001b[0;31m     \u001b[0;32mreturn\u001b[0m \u001b[0mSignature\u001b[0m\u001b[0;34m.\u001b[0m\u001b[0mfrom_callable\u001b[0m\u001b[0;34m(\u001b[0m\u001b[0mobj\u001b[0m\u001b[0;34m,\u001b[0m \u001b[0mfollow_wrapped\u001b[0m\u001b[0;34m=\u001b[0m\u001b[0mfollow_wrapped\u001b[0m\u001b[0;34m)\u001b[0m\u001b[0;34m\u001b[0m\u001b[0;34m\u001b[0m\u001b[0m\n\u001b[0m\u001b[1;32m   3084\u001b[0m \u001b[0;34m\u001b[0m\u001b[0m\n\u001b[1;32m   3085\u001b[0m \u001b[0;34m\u001b[0m\u001b[0m\n",
      "\u001b[0;32m/usr/local/anaconda3/lib/python3.7/inspect.py\u001b[0m in \u001b[0;36mfrom_callable\u001b[0;34m(cls, obj, follow_wrapped)\u001b[0m\n\u001b[1;32m   2831\u001b[0m         \u001b[0;34m\"\"\"Constructs Signature for the given callable object.\"\"\"\u001b[0m\u001b[0;34m\u001b[0m\u001b[0;34m\u001b[0m\u001b[0m\n\u001b[1;32m   2832\u001b[0m         return _signature_from_callable(obj, sigcls=cls,\n\u001b[0;32m-> 2833\u001b[0;31m                                         follow_wrapper_chains=follow_wrapped)\n\u001b[0m\u001b[1;32m   2834\u001b[0m \u001b[0;34m\u001b[0m\u001b[0m\n\u001b[1;32m   2835\u001b[0m     \u001b[0;34m@\u001b[0m\u001b[0mproperty\u001b[0m\u001b[0;34m\u001b[0m\u001b[0;34m\u001b[0m\u001b[0m\n",
      "\u001b[0;32m/usr/local/anaconda3/lib/python3.7/inspect.py\u001b[0m in \u001b[0;36m_signature_from_callable\u001b[0;34m(obj, follow_wrapper_chains, skip_bound_arg, sigcls)\u001b[0m\n\u001b[1;32m   2282\u001b[0m         \u001b[0;31m# If it's a pure Python function, or an object that is duck type\u001b[0m\u001b[0;34m\u001b[0m\u001b[0;34m\u001b[0m\u001b[0;34m\u001b[0m\u001b[0m\n\u001b[1;32m   2283\u001b[0m         \u001b[0;31m# of a Python function (Cython functions, for instance), then:\u001b[0m\u001b[0;34m\u001b[0m\u001b[0;34m\u001b[0m\u001b[0;34m\u001b[0m\u001b[0m\n\u001b[0;32m-> 2284\u001b[0;31m         \u001b[0;32mreturn\u001b[0m \u001b[0m_signature_from_function\u001b[0m\u001b[0;34m(\u001b[0m\u001b[0msigcls\u001b[0m\u001b[0;34m,\u001b[0m \u001b[0mobj\u001b[0m\u001b[0;34m)\u001b[0m\u001b[0;34m\u001b[0m\u001b[0;34m\u001b[0m\u001b[0m\n\u001b[0m\u001b[1;32m   2285\u001b[0m \u001b[0;34m\u001b[0m\u001b[0m\n\u001b[1;32m   2286\u001b[0m     \u001b[0;32mif\u001b[0m \u001b[0m_signature_is_builtin\u001b[0m\u001b[0;34m(\u001b[0m\u001b[0mobj\u001b[0m\u001b[0;34m)\u001b[0m\u001b[0;34m:\u001b[0m\u001b[0;34m\u001b[0m\u001b[0;34m\u001b[0m\u001b[0m\n",
      "\u001b[0;32m/usr/local/anaconda3/lib/python3.7/inspect.py\u001b[0m in \u001b[0;36m_signature_from_function\u001b[0;34m(cls, func)\u001b[0m\n\u001b[1;32m   2193\u001b[0m     return cls(parameters,\n\u001b[1;32m   2194\u001b[0m                \u001b[0mreturn_annotation\u001b[0m\u001b[0;34m=\u001b[0m\u001b[0mannotations\u001b[0m\u001b[0;34m.\u001b[0m\u001b[0mget\u001b[0m\u001b[0;34m(\u001b[0m\u001b[0;34m'return'\u001b[0m\u001b[0;34m,\u001b[0m \u001b[0m_empty\u001b[0m\u001b[0;34m)\u001b[0m\u001b[0;34m,\u001b[0m\u001b[0;34m\u001b[0m\u001b[0;34m\u001b[0m\u001b[0m\n\u001b[0;32m-> 2195\u001b[0;31m                __validate_parameters__=is_duck_function)\n\u001b[0m\u001b[1;32m   2196\u001b[0m \u001b[0;34m\u001b[0m\u001b[0m\n\u001b[1;32m   2197\u001b[0m \u001b[0;34m\u001b[0m\u001b[0m\n",
      "\u001b[0;32m/usr/local/anaconda3/lib/python3.7/inspect.py\u001b[0m in \u001b[0;36m__init__\u001b[0;34m(self, parameters, return_annotation, __validate_parameters__)\u001b[0m\n\u001b[1;32m   2798\u001b[0m             \u001b[0;32melse\u001b[0m\u001b[0;34m:\u001b[0m\u001b[0;34m\u001b[0m\u001b[0;34m\u001b[0m\u001b[0m\n\u001b[1;32m   2799\u001b[0m                 params = OrderedDict(((param.name, param)\n\u001b[0;32m-> 2800\u001b[0;31m                                                 for param in parameters))\n\u001b[0m\u001b[1;32m   2801\u001b[0m \u001b[0;34m\u001b[0m\u001b[0m\n\u001b[1;32m   2802\u001b[0m         \u001b[0mself\u001b[0m\u001b[0;34m.\u001b[0m\u001b[0m_parameters\u001b[0m \u001b[0;34m=\u001b[0m \u001b[0mtypes\u001b[0m\u001b[0;34m.\u001b[0m\u001b[0mMappingProxyType\u001b[0m\u001b[0;34m(\u001b[0m\u001b[0mparams\u001b[0m\u001b[0;34m)\u001b[0m\u001b[0;34m\u001b[0m\u001b[0;34m\u001b[0m\u001b[0m\n",
      "\u001b[0;31mKeyboardInterrupt\u001b[0m: "
     ]
    }
   ],
   "source": [
    "from sklearn.ensemble import RandomForestClassifier\n",
    "from sklearn.pipeline import make_pipeline\n",
    "from sklearn.preprocessing import StandardScaler\n",
    "from sklearn.svm import SVC\n",
    "\n",
    "remove = ['OnTime','OrderCorrect','FoundEverything','GoodPrice','DeliverySatisfaction','EasyToUse']\n",
    "for cat in remove:\n",
    "    remove2 = ['OnTime','OrderCorrect','FoundEverything','GoodPrice','DeliverySatisfaction','EasyToUse']\n",
    "    for cat2 in remove2:\n",
    "        if (cat2 != cat):\n",
    "            remove3 = ['OnTime','OrderCorrect','FoundEverything','GoodPrice','DeliverySatisfaction','EasyToUse']\n",
    "            for cat3 in remove3:\n",
    "                if (cat3 != cat2):\n",
    "                    if (cat3 != cat):\n",
    "                        trainAccuracy = []\n",
    "                        accuracy = []\n",
    "                        for i in range(0, 50):\n",
    "                            train, valid = train_test_split(rawData, test_size=0.20, stratify=rawData['Happy'])\n",
    "                            train_y = train.pop('Happy')\n",
    "                            valid_y = valid.pop('Happy')\n",
    "\n",
    "                            train.pop(cat)\n",
    "                            valid.pop(cat)\n",
    "\n",
    "                            train.pop(cat2)\n",
    "                            valid.pop(cat2)\n",
    "\n",
    "                            #train['Sum'] = train.sum(axis=1)\n",
    "                            #valid['Sum'] = valid.sum(axis=1)\n",
    "\n",
    "                            clf = RandomForestClassifier(n_estimators=20, max_depth=7)\n",
    "                            clf = clf.fit(train, train_y)\n",
    "                            ypred = clf.predict(valid)\n",
    "                            ypredTrain = clf.predict(train)\n",
    "\n",
    "                            trainAccuracy.append((ypredTrain - train_y).value_counts()[0]/len(train_y))\n",
    "                            accuracy.append((ypred - valid_y).value_counts()[0]/len(valid_y))\n",
    "\n",
    "                        print (cat, cat2, cat3, np.array(accuracy).mean(), np.array(trainAccuracy).mean())"
   ]
  },
  {
   "cell_type": "code",
   "execution_count": null,
   "id": "55abf2f2",
   "metadata": {},
   "outputs": [],
   "source": []
  },
  {
   "cell_type": "code",
   "execution_count": null,
   "id": "0584bb1a",
   "metadata": {},
   "outputs": [],
   "source": []
  },
  {
   "cell_type": "code",
   "execution_count": null,
   "id": "5d3bf065",
   "metadata": {},
   "outputs": [],
   "source": []
  },
  {
   "cell_type": "code",
   "execution_count": null,
   "id": "1913830f",
   "metadata": {},
   "outputs": [],
   "source": []
  },
  {
   "cell_type": "code",
   "execution_count": null,
   "id": "d0108069",
   "metadata": {},
   "outputs": [],
   "source": []
  },
  {
   "cell_type": "code",
   "execution_count": null,
   "id": "c92f6015",
   "metadata": {},
   "outputs": [],
   "source": []
  },
  {
   "cell_type": "code",
   "execution_count": null,
   "id": "9653664b",
   "metadata": {},
   "outputs": [],
   "source": []
  },
  {
   "cell_type": "markdown",
   "id": "7b23cc11",
   "metadata": {},
   "source": [
    "### Other scratch work\n",
    "- XGBoost, PCA on the features first"
   ]
  },
  {
   "cell_type": "code",
   "execution_count": null,
   "id": "eed2b107",
   "metadata": {},
   "outputs": [],
   "source": [
    "from sklearn.naive_bayes import GaussianNB\n",
    "\n",
    "gnb = GaussianNB()\n",
    "y_pred = gnb.fit(X_train, y_train).predict(X_test)\n",
    "\n",
    "print(\"Number of mislabeled points out of a total %d points : %d\"\n",
    "       % (X_test.shape[0], (y_test != y_pred).sum()))"
   ]
  },
  {
   "cell_type": "code",
   "execution_count": 14,
   "id": "3db5e396",
   "metadata": {},
   "outputs": [],
   "source": [
    "from xgboost import XGBClassifier\n",
    "from sklearn.metrics import accuracy_score"
   ]
  },
  {
   "cell_type": "code",
   "execution_count": 70,
   "id": "4f40fe26",
   "metadata": {},
   "outputs": [
    {
     "name": "stdout",
     "output_type": "stream",
     "text": [
      "PC0 PC1 0.566 0.9622727272727272\n",
      "PC0 PC2 0.5623333333333334 0.9639393939393941\n",
      "PC0 PC3 0.5421666666666666 0.9654545454545455\n",
      "PC0 PC4 0.48316666666666674 0.9665151515151514\n",
      "PC0 PC5 0.5248333333333333 0.9654545454545453\n",
      "PC1 PC2 0.5829999999999999 0.9684848484848484\n",
      "PC1 PC3 0.5848333333333333 0.9656060606060605\n",
      "PC1 PC4 0.5471666666666666 0.9622727272727272\n",
      "PC1 PC5 0.5743333333333333 0.966060606060606\n",
      "PC2 PC3 0.5818333333333334 0.9645454545454545\n",
      "PC2 PC4 0.5191666666666667 0.9653030303030302\n",
      "PC2 PC5 0.5716666666666667 0.9642424242424242\n",
      "PC3 PC4 0.5249999999999999 0.9653030303030303\n",
      "PC3 PC5 0.5695 0.9665151515151515\n",
      "PC4 PC5 0.539 0.9672727272727273\n"
     ]
    }
   ],
   "source": [
    "from sklearn.ensemble import RandomForestClassifier\n",
    "import random\n",
    "\n",
    "trainAccuracy = []\n",
    "accuracy = []\n",
    "\n",
    "remove = ['PC0','PC1','PC2','PC3','PC4','PC5']\n",
    "for i in range(0, 6):\n",
    "    cat = remove[i]\n",
    "    for j in range(i+1, 6):\n",
    "        cat2 = remove[j]\n",
    "        trainAccuracy = []\n",
    "        accuracy = []\n",
    "        for i in range(0, 100):\n",
    "            train, valid = train_test_split(X_pca, test_size=randSize, stratify=rawData['Happy'])\n",
    "            train_y = train.pop('Happy')\n",
    "            valid_y = valid.pop('Happy')\n",
    "\n",
    "            train.pop(cat)\n",
    "            valid.pop(cat)\n",
    "\n",
    "            train.pop(cat2)\n",
    "            valid.pop(cat2)\n",
    "\n",
    "            #train['Sum'] = train.sum(axis=1)\n",
    "            #valid['Sum'] = valid.sum(axis=1)\n",
    "\n",
    "            #clf = XGBClassifier(n_estimators=5000, learning_rate=0.001, eval_metric='error', use_label_encoder=False)\n",
    "            clf = RandomForestClassifier(n_estimators=200, max_depth=9)\n",
    "            #clf = clf.fit(train, train_y, early_stopping_rounds=10, eval_set=[(valid, valid_y)], verbose=False)\n",
    "            clf = clf.fit(train, train_y)\n",
    "            ypred = clf.predict(valid)\n",
    "            ypred = clf.predict(valid)\n",
    "            ypredTrain = clf.predict(train)\n",
    "            trainAccuracy.append((ypredTrain - train_y).value_counts()[0]/len(train_y))\n",
    "            accuracy.append((ypred - valid_y).value_counts()[0]/len(valid_y))\n",
    "\n",
    "        print (cat, cat2, np.array(accuracy).mean(), np.array(trainAccuracy).mean())"
   ]
  },
  {
   "cell_type": "code",
   "execution_count": 45,
   "id": "342f7373",
   "metadata": {},
   "outputs": [],
   "source": [
    "from sklearn.decomposition import PCA"
   ]
  },
  {
   "cell_type": "code",
   "execution_count": 59,
   "id": "e3bd2ae5",
   "metadata": {},
   "outputs": [],
   "source": [
    "tst = rawData.copy()\n",
    "tst.pop('Happy')\n",
    "pca = PCA()\n",
    "X_pca = pca.fit_transform(tst)"
   ]
  },
  {
   "cell_type": "code",
   "execution_count": 60,
   "id": "9b8efd00",
   "metadata": {},
   "outputs": [],
   "source": [
    "X_pca = pd.DataFrame(X_pca, columns=['PC0','PC1','PC2','PC3','PC4','PC5'])"
   ]
  },
  {
   "cell_type": "code",
   "execution_count": 64,
   "id": "f40cfacf",
   "metadata": {},
   "outputs": [
    {
     "data": {
      "text/html": [
       "<div>\n",
       "<style scoped>\n",
       "    .dataframe tbody tr th:only-of-type {\n",
       "        vertical-align: middle;\n",
       "    }\n",
       "\n",
       "    .dataframe tbody tr th {\n",
       "        vertical-align: top;\n",
       "    }\n",
       "\n",
       "    .dataframe thead th {\n",
       "        text-align: right;\n",
       "    }\n",
       "</style>\n",
       "<table border=\"1\" class=\"dataframe\">\n",
       "  <thead>\n",
       "    <tr style=\"text-align: right;\">\n",
       "      <th></th>\n",
       "      <th>PC0</th>\n",
       "      <th>PC1</th>\n",
       "      <th>PC2</th>\n",
       "      <th>PC3</th>\n",
       "      <th>PC4</th>\n",
       "      <th>PC5</th>\n",
       "      <th>Happy</th>\n",
       "    </tr>\n",
       "  </thead>\n",
       "  <tbody>\n",
       "    <tr>\n",
       "      <th>0</th>\n",
       "      <td>1.576026</td>\n",
       "      <td>1.048242</td>\n",
       "      <td>-0.888826</td>\n",
       "      <td>-0.444176</td>\n",
       "      <td>-0.359581</td>\n",
       "      <td>0.497687</td>\n",
       "      <td>0</td>\n",
       "    </tr>\n",
       "    <tr>\n",
       "      <th>1</th>\n",
       "      <td>0.427242</td>\n",
       "      <td>-0.140749</td>\n",
       "      <td>-0.923574</td>\n",
       "      <td>-1.766187</td>\n",
       "      <td>1.113533</td>\n",
       "      <td>-0.091899</td>\n",
       "      <td>0</td>\n",
       "    </tr>\n",
       "    <tr>\n",
       "      <th>2</th>\n",
       "      <td>0.293515</td>\n",
       "      <td>0.284936</td>\n",
       "      <td>0.694117</td>\n",
       "      <td>0.862937</td>\n",
       "      <td>-0.949145</td>\n",
       "      <td>0.038676</td>\n",
       "      <td>1</td>\n",
       "    </tr>\n",
       "    <tr>\n",
       "      <th>3</th>\n",
       "      <td>0.092171</td>\n",
       "      <td>1.206082</td>\n",
       "      <td>1.000899</td>\n",
       "      <td>0.820391</td>\n",
       "      <td>-1.039162</td>\n",
       "      <td>0.121869</td>\n",
       "      <td>0</td>\n",
       "    </tr>\n",
       "    <tr>\n",
       "      <th>4</th>\n",
       "      <td>0.092171</td>\n",
       "      <td>1.206082</td>\n",
       "      <td>1.000899</td>\n",
       "      <td>0.820391</td>\n",
       "      <td>-1.039162</td>\n",
       "      <td>0.121869</td>\n",
       "      <td>0</td>\n",
       "    </tr>\n",
       "    <tr>\n",
       "      <th>...</th>\n",
       "      <td>...</td>\n",
       "      <td>...</td>\n",
       "      <td>...</td>\n",
       "      <td>...</td>\n",
       "      <td>...</td>\n",
       "      <td>...</td>\n",
       "      <td>...</td>\n",
       "    </tr>\n",
       "    <tr>\n",
       "      <th>121</th>\n",
       "      <td>0.081277</td>\n",
       "      <td>-0.429089</td>\n",
       "      <td>0.144870</td>\n",
       "      <td>-0.310508</td>\n",
       "      <td>0.785325</td>\n",
       "      <td>-1.287254</td>\n",
       "      <td>1</td>\n",
       "    </tr>\n",
       "    <tr>\n",
       "      <th>122</th>\n",
       "      <td>0.845978</td>\n",
       "      <td>-0.323250</td>\n",
       "      <td>-0.484885</td>\n",
       "      <td>0.448330</td>\n",
       "      <td>-1.628718</td>\n",
       "      <td>-0.510080</td>\n",
       "      <td>1</td>\n",
       "    </tr>\n",
       "    <tr>\n",
       "      <th>123</th>\n",
       "      <td>-0.674262</td>\n",
       "      <td>0.070011</td>\n",
       "      <td>0.651274</td>\n",
       "      <td>-0.122201</td>\n",
       "      <td>-0.773069</td>\n",
       "      <td>-0.079130</td>\n",
       "      <td>1</td>\n",
       "    </tr>\n",
       "    <tr>\n",
       "      <th>124</th>\n",
       "      <td>-0.347115</td>\n",
       "      <td>0.189672</td>\n",
       "      <td>0.345818</td>\n",
       "      <td>-0.489468</td>\n",
       "      <td>-0.460586</td>\n",
       "      <td>0.664390</td>\n",
       "      <td>0</td>\n",
       "    </tr>\n",
       "    <tr>\n",
       "      <th>125</th>\n",
       "      <td>-1.146346</td>\n",
       "      <td>-0.288339</td>\n",
       "      <td>1.257522</td>\n",
       "      <td>-1.617475</td>\n",
       "      <td>-0.805759</td>\n",
       "      <td>-0.289542</td>\n",
       "      <td>0</td>\n",
       "    </tr>\n",
       "  </tbody>\n",
       "</table>\n",
       "<p>126 rows × 7 columns</p>\n",
       "</div>"
      ],
      "text/plain": [
       "          PC0       PC1       PC2       PC3       PC4       PC5  Happy\n",
       "0    1.576026  1.048242 -0.888826 -0.444176 -0.359581  0.497687      0\n",
       "1    0.427242 -0.140749 -0.923574 -1.766187  1.113533 -0.091899      0\n",
       "2    0.293515  0.284936  0.694117  0.862937 -0.949145  0.038676      1\n",
       "3    0.092171  1.206082  1.000899  0.820391 -1.039162  0.121869      0\n",
       "4    0.092171  1.206082  1.000899  0.820391 -1.039162  0.121869      0\n",
       "..        ...       ...       ...       ...       ...       ...    ...\n",
       "121  0.081277 -0.429089  0.144870 -0.310508  0.785325 -1.287254      1\n",
       "122  0.845978 -0.323250 -0.484885  0.448330 -1.628718 -0.510080      1\n",
       "123 -0.674262  0.070011  0.651274 -0.122201 -0.773069 -0.079130      1\n",
       "124 -0.347115  0.189672  0.345818 -0.489468 -0.460586  0.664390      0\n",
       "125 -1.146346 -0.288339  1.257522 -1.617475 -0.805759 -0.289542      0\n",
       "\n",
       "[126 rows x 7 columns]"
      ]
     },
     "execution_count": 64,
     "metadata": {},
     "output_type": "execute_result"
    }
   ],
   "source": [
    "X_pca = X_pca.join(rawData['Happy'])\n",
    "X_pca"
   ]
  },
  {
   "cell_type": "code",
   "execution_count": 52,
   "id": "bd9ad5d0",
   "metadata": {},
   "outputs": [
    {
     "data": {
      "text/html": [
       "<div>\n",
       "<style scoped>\n",
       "    .dataframe tbody tr th:only-of-type {\n",
       "        vertical-align: middle;\n",
       "    }\n",
       "\n",
       "    .dataframe tbody tr th {\n",
       "        vertical-align: top;\n",
       "    }\n",
       "\n",
       "    .dataframe thead th {\n",
       "        text-align: right;\n",
       "    }\n",
       "</style>\n",
       "<table border=\"1\" class=\"dataframe\">\n",
       "  <thead>\n",
       "    <tr style=\"text-align: right;\">\n",
       "      <th></th>\n",
       "      <th>0</th>\n",
       "      <th>1</th>\n",
       "      <th>2</th>\n",
       "      <th>3</th>\n",
       "      <th>4</th>\n",
       "      <th>5</th>\n",
       "    </tr>\n",
       "  </thead>\n",
       "  <tbody>\n",
       "    <tr>\n",
       "      <th>OnTime</th>\n",
       "      <td>-0.327148</td>\n",
       "      <td>-0.119661</td>\n",
       "      <td>0.305456</td>\n",
       "      <td>0.367267</td>\n",
       "      <td>-0.312482</td>\n",
       "      <td>-0.743520</td>\n",
       "    </tr>\n",
       "    <tr>\n",
       "      <th>OrderCorrect</th>\n",
       "      <td>-0.201344</td>\n",
       "      <td>0.921146</td>\n",
       "      <td>0.306782</td>\n",
       "      <td>-0.042546</td>\n",
       "      <td>-0.090016</td>\n",
       "      <td>0.083193</td>\n",
       "    </tr>\n",
       "    <tr>\n",
       "      <th>FoundEverything</th>\n",
       "      <td>-0.495695</td>\n",
       "      <td>0.143426</td>\n",
       "      <td>-0.649090</td>\n",
       "      <td>0.510136</td>\n",
       "      <td>0.208766</td>\n",
       "      <td>0.092606</td>\n",
       "    </tr>\n",
       "    <tr>\n",
       "      <th>GoodPrice</th>\n",
       "      <td>-0.308330</td>\n",
       "      <td>0.049018</td>\n",
       "      <td>-0.457531</td>\n",
       "      <td>-0.721146</td>\n",
       "      <td>-0.296756</td>\n",
       "      <td>-0.291685</td>\n",
       "    </tr>\n",
       "    <tr>\n",
       "      <th>DeliverySatisfaction</th>\n",
       "      <td>-0.659448</td>\n",
       "      <td>-0.263943</td>\n",
       "      <td>0.414688</td>\n",
       "      <td>-0.263992</td>\n",
       "      <td>0.472833</td>\n",
       "      <td>0.173878</td>\n",
       "    </tr>\n",
       "    <tr>\n",
       "      <th>EasyToUse</th>\n",
       "      <td>-0.277097</td>\n",
       "      <td>-0.211023</td>\n",
       "      <td>0.099811</td>\n",
       "      <td>0.115427</td>\n",
       "      <td>-0.734189</td>\n",
       "      <td>0.562466</td>\n",
       "    </tr>\n",
       "  </tbody>\n",
       "</table>\n",
       "</div>"
      ],
      "text/plain": [
       "                             0         1         2         3         4  \\\n",
       "OnTime               -0.327148 -0.119661  0.305456  0.367267 -0.312482   \n",
       "OrderCorrect         -0.201344  0.921146  0.306782 -0.042546 -0.090016   \n",
       "FoundEverything      -0.495695  0.143426 -0.649090  0.510136  0.208766   \n",
       "GoodPrice            -0.308330  0.049018 -0.457531 -0.721146 -0.296756   \n",
       "DeliverySatisfaction -0.659448 -0.263943  0.414688 -0.263992  0.472833   \n",
       "EasyToUse            -0.277097 -0.211023  0.099811  0.115427 -0.734189   \n",
       "\n",
       "                             5  \n",
       "OnTime               -0.743520  \n",
       "OrderCorrect          0.083193  \n",
       "FoundEverything       0.092606  \n",
       "GoodPrice            -0.291685  \n",
       "DeliverySatisfaction  0.173878  \n",
       "EasyToUse             0.562466  "
      ]
     },
     "execution_count": 52,
     "metadata": {},
     "output_type": "execute_result"
    }
   ],
   "source": [
    "loadings = pd.DataFrame(\n",
    "    pca.components_.T,  # transpose the matrix of loadings\n",
    "      # so the columns are the principal components\n",
    "    index=tst.columns,  # and the rows are the original features\n",
    ")\n",
    "loadings"
   ]
  },
  {
   "cell_type": "code",
   "execution_count": 53,
   "id": "23468896",
   "metadata": {},
   "outputs": [
    {
     "ename": "NameError",
     "evalue": "name 'plot_variance' is not defined",
     "output_type": "error",
     "traceback": [
      "\u001b[0;31m---------------------------------------------------------------------------\u001b[0m",
      "\u001b[0;31mNameError\u001b[0m                                 Traceback (most recent call last)",
      "\u001b[0;32m/var/folders/bq/bn5hpd0j353fngnlr05t3s7c0000gp/T/ipykernel_74203/984652474.py\u001b[0m in \u001b[0;36m<module>\u001b[0;34m\u001b[0m\n\u001b[0;32m----> 1\u001b[0;31m \u001b[0mplot_variance\u001b[0m\u001b[0;34m(\u001b[0m\u001b[0mpca\u001b[0m\u001b[0;34m)\u001b[0m\u001b[0;34m\u001b[0m\u001b[0;34m\u001b[0m\u001b[0m\n\u001b[0m",
      "\u001b[0;31mNameError\u001b[0m: name 'plot_variance' is not defined"
     ]
    }
   ],
   "source": [
    "plot_variance(pca)"
   ]
  },
  {
   "cell_type": "code",
   "execution_count": 55,
   "id": "50273d34",
   "metadata": {},
   "outputs": [
    {
     "name": "stderr",
     "output_type": "stream",
     "text": [
      "/usr/local/anaconda3/lib/python3.7/site-packages/sklearn/metrics/cluster/_supervised.py:58: UserWarning: Clustering metrics expects discrete values but received continuous values for label, and binary values for target\n",
      "  warnings.warn(msg, UserWarning)\n",
      "/usr/local/anaconda3/lib/python3.7/site-packages/sklearn/metrics/cluster/_supervised.py:58: UserWarning: Clustering metrics expects discrete values but received continuous values for label, and binary values for target\n",
      "  warnings.warn(msg, UserWarning)\n",
      "/usr/local/anaconda3/lib/python3.7/site-packages/sklearn/metrics/cluster/_supervised.py:58: UserWarning: Clustering metrics expects discrete values but received continuous values for label, and binary values for target\n",
      "  warnings.warn(msg, UserWarning)\n",
      "/usr/local/anaconda3/lib/python3.7/site-packages/sklearn/metrics/cluster/_supervised.py:58: UserWarning: Clustering metrics expects discrete values but received continuous values for label, and binary values for target\n",
      "  warnings.warn(msg, UserWarning)\n",
      "/usr/local/anaconda3/lib/python3.7/site-packages/sklearn/metrics/cluster/_supervised.py:58: UserWarning: Clustering metrics expects discrete values but received continuous values for label, and binary values for target\n",
      "  warnings.warn(msg, UserWarning)\n",
      "/usr/local/anaconda3/lib/python3.7/site-packages/sklearn/metrics/cluster/_supervised.py:58: UserWarning: Clustering metrics expects discrete values but received continuous values for label, and binary values for target\n",
      "  warnings.warn(msg, UserWarning)\n"
     ]
    },
    {
     "data": {
      "text/plain": [
       "5    0.599131\n",
       "0    0.599131\n",
       "2    0.599131\n",
       "3    0.599131\n",
       "4    0.599131\n",
       "1    0.599131\n",
       "Name: MI Scores, dtype: float64"
      ]
     },
     "execution_count": 55,
     "metadata": {},
     "output_type": "execute_result"
    }
   ],
   "source": [
    "mi_scores = make_mi_scores(X_pca, rawData['Happy'])\n",
    "mi_scores"
   ]
  },
  {
   "cell_type": "code",
   "execution_count": 56,
   "id": "a718eaa4",
   "metadata": {},
   "outputs": [
    {
     "name": "stderr",
     "output_type": "stream",
     "text": [
      "/usr/local/anaconda3/lib/python3.7/site-packages/sklearn/metrics/cluster/_supervised.py:58: UserWarning: Clustering metrics expects discrete values but received continuous values for label, and binary values for target\n",
      "  warnings.warn(msg, UserWarning)\n",
      "/usr/local/anaconda3/lib/python3.7/site-packages/sklearn/metrics/cluster/_supervised.py:58: UserWarning: Clustering metrics expects discrete values but received continuous values for label, and binary values for target\n",
      "  warnings.warn(msg, UserWarning)\n",
      "/usr/local/anaconda3/lib/python3.7/site-packages/sklearn/metrics/cluster/_supervised.py:58: UserWarning: Clustering metrics expects discrete values but received continuous values for label, and binary values for target\n",
      "  warnings.warn(msg, UserWarning)\n",
      "/usr/local/anaconda3/lib/python3.7/site-packages/sklearn/metrics/cluster/_supervised.py:58: UserWarning: Clustering metrics expects discrete values but received continuous values for label, and binary values for target\n",
      "  warnings.warn(msg, UserWarning)\n",
      "/usr/local/anaconda3/lib/python3.7/site-packages/sklearn/metrics/cluster/_supervised.py:58: UserWarning: Clustering metrics expects discrete values but received continuous values for label, and binary values for target\n",
      "  warnings.warn(msg, UserWarning)\n",
      "/usr/local/anaconda3/lib/python3.7/site-packages/sklearn/metrics/cluster/_supervised.py:58: UserWarning: Clustering metrics expects discrete values but received continuous values for label, and binary values for target\n",
      "  warnings.warn(msg, UserWarning)\n"
     ]
    },
    {
     "data": {
      "text/plain": [
       "5    0.599131\n",
       "0    0.599131\n",
       "2    0.599131\n",
       "3    0.599131\n",
       "4    0.599131\n",
       "1    0.599131\n",
       "Name: MI Scores, dtype: float64"
      ]
     },
     "metadata": {},
     "output_type": "display_data"
    }
   ],
   "source": [
    "def make_mi_scores(X, y):\n",
    "    mi_scores = mutual_info_classif(X, y, discrete_features=True)\n",
    "    mi_scores = pd.Series(mi_scores, name=\"MI Scores\", index=X.columns)\n",
    "    mi_scores = mi_scores.sort_values(ascending=False)\n",
    "    return mi_scores\n",
    "\n",
    "mi_scores = make_mi_scores(X_pca, rawData['Happy'])\n",
    "display (mi_scores)"
   ]
  },
  {
   "cell_type": "code",
   "execution_count": 80,
   "id": "d69efd93",
   "metadata": {},
   "outputs": [],
   "source": [
    "tst = np.arange(3,20,2)"
   ]
  },
  {
   "cell_type": "code",
   "execution_count": 82,
   "id": "43f08999",
   "metadata": {},
   "outputs": [
    {
     "name": "stdout",
     "output_type": "stream",
     "text": [
      "3\n",
      "5\n",
      "7\n",
      "9\n",
      "11\n",
      "13\n",
      "15\n",
      "17\n",
      "19\n"
     ]
    }
   ],
   "source": [
    "for val in tst:\n",
    "    print (val)"
   ]
  },
  {
   "cell_type": "code",
   "execution_count": null,
   "id": "a5a372d1",
   "metadata": {},
   "outputs": [],
   "source": []
  }
 ],
 "metadata": {
  "kernelspec": {
   "display_name": "Python 3 (ipykernel)",
   "language": "python",
   "name": "python3"
  },
  "language_info": {
   "codemirror_mode": {
    "name": "ipython",
    "version": 3
   },
   "file_extension": ".py",
   "mimetype": "text/x-python",
   "name": "python",
   "nbconvert_exporter": "python",
   "pygments_lexer": "ipython3",
   "version": "3.7.11"
  }
 },
 "nbformat": 4,
 "nbformat_minor": 5
}
