{
 "cells": [
  {
   "cell_type": "code",
   "execution_count": 138,
   "id": "c80a9c2d",
   "metadata": {},
   "outputs": [],
   "source": [
    "# Add needed libraries\n",
    "import numpy as np\n",
    "import pandas as pd\n",
    "import matplotlib.pyplot as plt\n",
    "import seaborn as sns\n",
    "import random\n",
    "\n",
    "# VIF for multi-collinearity detection\n",
    "from statsmodels.stats.outliers_influence import variance_inflation_factor\n",
    "\n",
    "# Models and modeling tools\n",
    "from sklearn.model_selection import train_test_split\n",
    "from sklearn.linear_model import LinearRegression\n",
    "from sklearn.linear_model import LogisticRegression\n",
    "from sklearn import tree\n",
    "from sklearn.ensemble import RandomForestClassifier\n",
    "from sklearn.ensemble import RandomForestRegressor\n",
    "import statsmodels.api as sm\n",
    "from sklearn.pipeline import make_pipeline\n",
    "from sklearn.preprocessing import StandardScaler\n",
    "from sklearn.svm import SVC\n",
    "from sklearn.model_selection import StratifiedKFold\n",
    "from sklearn.model_selection import cross_val_score\n",
    "\n",
    "# Change inline plots default size\n",
    "plt.rcParams['figure.figsize'] = [12, 8]"
   ]
  },
  {
   "cell_type": "markdown",
   "id": "fcea56ee",
   "metadata": {},
   "source": [
    "## Summary: ##\n",
    "\n"
   ]
  },
  {
   "cell_type": "markdown",
   "id": "e067c5d6",
   "metadata": {},
   "source": [
    "Survey data was collected from a customer cohort and responses were used to develop a model to determine what aspects of the ordering and delivery process were most likely to lead to customer happiness. The model suggests the most important characteristics leading to customer happiness were `Find Everything Customer Wanted` (29.1%) and `On Time Delivery` (27.5%).  \n",
    "\n",
    "The clearest story in the sample data was for `On Time Delivery`, where 65% of Happy respondents gave a 5/5 rating compared to only 35% of Unhappy respondents.  For `Find Everything Customer Wanted`, 48% of Happy respondents reated it 4/5 or above, compared to 30% of Unhappy respondents.\n",
    "\n",
    "The model, which uses survey responses on `Good Prices` and an `Easy to Use app` as well as the above survey questions, provides about 70% accuracy in predicting the happiness of the customer.\n",
    "\n"
   ]
  },
  {
   "cell_type": "markdown",
   "id": "32c66b68",
   "metadata": {},
   "source": [
    "## Final Model: ##"
   ]
  },
  {
   "cell_type": "code",
   "execution_count": 155,
   "id": "2c2c1fee",
   "metadata": {},
   "outputs": [
    {
     "name": "stdout",
     "output_type": "stream",
     "text": [
      "The mean cross-validation score is 70.71 % 0.112168934302173\n",
      "[0.27545383 0.2911105  0.22992401 0.20351166]\n"
     ]
    }
   ],
   "source": [
    "# Read in the rawData\n",
    "columns = ['Happy', 'OnTime', 'OrderCorrect', 'FoundEverything', 'GoodPrice', 'DeliverySatisfaction', 'EasyToUse']\n",
    "rawData = pd.read_csv('ACME-HappinessSurvey2020.csv', header=0, names=columns)\n",
    "\n",
    "# Separate data in independent (features) and dependent (target) datasets\n",
    "# Exclude 'OrderCorrect' and 'DeliverySatisfaction' from features due to poor performance\n",
    "x_final = rawData[['OnTime', 'FoundEverything', 'GoodPrice', 'EasyToUse']]\n",
    "y_final = rawData[['Happy']]\n",
    "\n",
    "clf = RandomForestClassifier(max_depth=9, min_samples_split=3, min_samples_leaf=1)\n",
    "\n",
    "scores = cross_val_score(clf, x_final, np.ravel(y_final), cv=StratifiedKFold(5))\n",
    "print ('The mean cross-validation score is', round(scores.mean(),4)*100, '%', scores.std())\n",
    "\n",
    "clf = clf.fit(x_final, np.ravel(y_final))\n",
    "print (clf.feature_importances_)\n",
    "\n",
    "#### Add test set here ####\n",
    "## testData = pd.read_csv()\n",
    "## x_test = testData[['OnTime', 'FoundEverything', 'GoodPrice', 'EasyToUse']]\n",
    "## y_test = testData[['Happy']]\n",
    "## clf.predict(x_test)"
   ]
  },
  {
   "cell_type": "markdown",
   "id": "4fc24f97",
   "metadata": {},
   "source": [
    "## Work: ##"
   ]
  },
  {
   "cell_type": "code",
   "execution_count": 142,
   "id": "1d2119c5",
   "metadata": {},
   "outputs": [
    {
     "name": "stdout",
     "output_type": "stream",
     "text": [
      "50 0.7073846153846153 0.14119154809845336\n",
      "75 0.683076923076923 0.13455691037690154\n",
      "100 0.707076923076923 0.12814784361231057\n",
      "125 0.7073846153846154 0.12431835445515627\n",
      "150 0.6913846153846154 0.1341467888051949\n",
      "175 0.699076923076923 0.1283397856929642\n",
      "200 0.6993846153846154 0.1344217508463259\n",
      "225 0.6993846153846154 0.1344217508463259\n",
      "250 0.699076923076923 0.1283397856929642\n",
      "275 0.699076923076923 0.1283397856929642\n",
      "300 0.6993846153846154 0.1344217508463259\n",
      "325 0.707076923076923 0.12814784361231057\n",
      "350 0.6913846153846154 0.1341467888051949\n",
      "375 0.6993846153846154 0.1344217508463259\n",
      "400 0.707076923076923 0.12814784361231057\n",
      "425 0.707076923076923 0.12814784361231057\n",
      "450 0.6993846153846154 0.1344217508463259\n",
      "475 0.699076923076923 0.1283397856929642\n",
      "500 0.6993846153846154 0.1344217508463259\n"
     ]
    }
   ],
   "source": [
    "## Num Estimators Param Search ##\n",
    "n_estimators = [int(x) for x in np.linspace(start = 50, stop = 500, num = 19)]\n",
    "for nest in n_estimators:\n",
    "    clf = RandomForestClassifier(n_estimators=nest)\n",
    "    scores = cross_val_score(clf, x_final, np.ravel(y_final), cv=StratifiedKFold(5))\n",
    "    print (nest, scores.mean(), scores.std())"
   ]
  },
  {
   "cell_type": "code",
   "execution_count": 144,
   "id": "071d1b74",
   "metadata": {},
   "outputs": [
    {
     "name": "stdout",
     "output_type": "stream",
     "text": [
      "1 0.5716923076923076 0.1211448348297077\n",
      "3 0.6113846153846153 0.12123076923076923\n",
      "5 0.6833846153846154 0.11538420512747578\n",
      "7 0.6513846153846153 0.11741435251925038\n",
      "9 0.699076923076923 0.1283397856929642\n",
      "11 0.6913846153846154 0.12928789945987043\n",
      "13 0.699076923076923 0.1283397856929642\n",
      "15 0.6913846153846154 0.1341467888051949\n",
      "17 0.699076923076923 0.12325218290852286\n",
      "19 0.6833846153846154 0.1448913896437584\n",
      "21 0.6913846153846154 0.12928789945987043\n",
      "23 0.6913846153846154 0.1341467888051949\n",
      "25 0.6993846153846154 0.1344217508463259\n"
     ]
    }
   ],
   "source": [
    "## Max Depth Samples Leaf Param Search ##\n",
    "max_depth = [int(x) for x in np.linspace(1, 25, num = 13)]\n",
    "for md in max_depth:\n",
    "    clf = RandomForestClassifier(max_depth=md)\n",
    "    scores = cross_val_score(clf, x_final, np.ravel(y_final), cv=5)\n",
    "    print (md, scores.mean(), scores.std())"
   ]
  },
  {
   "cell_type": "code",
   "execution_count": 146,
   "id": "59374236",
   "metadata": {},
   "outputs": [
    {
     "name": "stdout",
     "output_type": "stream",
     "text": [
      "2 0.6913846153846154 0.1341467888051949\n",
      "3 0.6993846153846154 0.1344217508463259\n",
      "4 0.6833846153846154 0.13577008062492787\n",
      "5 0.6836923076923077 0.14139658441009187\n",
      "6 0.6993846153846153 0.15228002856774003\n",
      "7 0.691076923076923 0.1280325402424975\n",
      "8 0.6516923076923077 0.1408733536732477\n",
      "9 0.6673846153846154 0.12540264146024638\n",
      "10 0.6593846153846153 0.12304461114311731\n"
     ]
    }
   ],
   "source": [
    "## Min Samples Split Param Search ##\n",
    "min_samples_split = [2, 3, 4, 5, 6, 7, 8, 9, 10]\n",
    "for mss in min_samples_split:\n",
    "    clf = RandomForestClassifier(max_depth=9, min_samples_split=mss)\n",
    "    scores = cross_val_score(clf, x_final, np.ravel(y_final), cv=5)\n",
    "    print (mss, scores.mean(), scores.std())"
   ]
  },
  {
   "cell_type": "code",
   "execution_count": 149,
   "id": "59437d15",
   "metadata": {},
   "outputs": [
    {
     "name": "stdout",
     "output_type": "stream",
     "text": [
      "1 0.6833846153846154 0.12850492127891217\n",
      "2 0.6753846153846154 0.12467425010423465\n",
      "3 0.6510769230769231 0.13622953133260274\n",
      "4 0.6190769230769231 0.1486048730157382\n",
      "5 0.6113846153846153 0.12123076923076923\n",
      "6 0.5876923076923076 0.13373824120184663\n"
     ]
    }
   ],
   "source": [
    "## Min Samples Leaf Param Search ##\n",
    "min_samples_leaf = [1, 2, 3, 4, 5, 6]\n",
    "for msl in min_samples_leaf:\n",
    "    clf = RandomForestClassifier(max_depth=9, min_samples_split=3, min_samples_leaf=msl)\n",
    "    scores = cross_val_score(clf, x_final, np.ravel(y_final), cv=5)\n",
    "    print (msl, scores.mean(), scores.std())"
   ]
  },
  {
   "cell_type": "code",
   "execution_count": null,
   "id": "15308c5d",
   "metadata": {},
   "outputs": [],
   "source": []
  },
  {
   "cell_type": "code",
   "execution_count": 70,
   "id": "78680e75",
   "metadata": {},
   "outputs": [
    {
     "data": {
      "image/png": "[encoded data removed]",
      "text/plain": [
       "<Figure size 864x576 with 1 Axes>"
      ]
     },
     "metadata": {
      "needs_background": "light"
     },
     "output_type": "display_data"
    }
   ],
   "source": [
    "import pandas as pd\n",
    "from sklearn.model_selection import train_test_split\n",
    "from sklearn.preprocessing import StandardScaler\n",
    "from sklearn import datasets\n",
    "#\n",
    "# Load the wine datasets\n",
    "#\n",
    "df = pd.read_csv('ACME-HappinessSurvey2020.csv', header=0, names=columns)\n",
    "#\n",
    "# Create training and test split\n",
    "#\n",
    "X_train, X_test, y_train, y_test = train_test_split(df.iloc[:, 1:], df.iloc[:, :1], test_size = 0.3, random_state=1)\n",
    "#\n",
    "# Feature scaling\n",
    "#\n",
    "sc = StandardScaler()\n",
    "sc.fit(X_train)\n",
    "X_train_std = sc.transform(X_train)\n",
    "X_test_std = sc.transform(X_test)\n",
    "#\n",
    "# Training / Test Dataframe\n",
    "#\n",
    "cols = columns[1:]\n",
    "X_train_std = pd.DataFrame(X_train_std, columns=cols)\n",
    "X_test_std = pd.DataFrame(X_test_std, columns=cols)\n",
    "\n",
    "from sklearn.ensemble import RandomForestClassifier\n",
    "#\n",
    "# Train the mode\n",
    "#\n",
    "forest = RandomForestClassifier(n_estimators=200, max_depth=9, min_samples_split=4)\n",
    "forest.fit(X_train_std, y_train.values.ravel())\n",
    "\n",
    "importances = forest.feature_importances_\n",
    "#\n",
    "# Sort the feature importance in descending order\n",
    "#\n",
    "sorted_indices = np.argsort(importances)[::-1]\n",
    "\n",
    "\n",
    "import matplotlib.pyplot as plt\n",
    " \n",
    "plt.title('Feature Importance')\n",
    "plt.bar(range(X_train.shape[1]), importances[sorted_indices], align='center')\n",
    "plt.xticks(range(X_train.shape[1]), X_train.columns[sorted_indices], rotation=90)\n",
    "plt.tight_layout()\n",
    "plt.show()"
   ]
  },
  {
   "cell_type": "code",
   "execution_count": null,
   "id": "d0a65e15",
   "metadata": {},
   "outputs": [],
   "source": []
  }
 ],
 "metadata": {
  "kernelspec": {
   "display_name": "Python 3 (ipykernel)",
   "language": "python",
   "name": "python3"
  },
  "language_info": {
   "codemirror_mode": {
    "name": "ipython",
    "version": 3
   },
   "file_extension": ".py",
   "mimetype": "text/x-python",
   "name": "python",
   "nbconvert_exporter": "python",
   "pygments_lexer": "ipython3",
   "version": "3.7.11"
  }
 },
 "nbformat": 4,
 "nbformat_minor": 5
}
