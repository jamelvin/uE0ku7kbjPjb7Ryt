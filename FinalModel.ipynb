{
 "cells": [
  {
   "cell_type": "code",
   "execution_count": 1,
   "id": "c80a9c2d",
   "metadata": {},
   "outputs": [],
   "source": [
    "# Add needed libraries\n",
    "import numpy as np\n",
    "import pandas as pd\n",
    "import matplotlib.pyplot as plt\n",
    "import seaborn as sns\n",
    "import random\n",
    "\n",
    "# VIF for multi-collinearity detection\n",
    "from statsmodels.stats.outliers_influence import variance_inflation_factor\n",
    "\n",
    "# Models and modeling tools\n",
    "from sklearn.model_selection import train_test_split\n",
    "from sklearn.linear_model import LinearRegression\n",
    "from sklearn.linear_model import LogisticRegression\n",
    "from sklearn import tree\n",
    "from sklearn.ensemble import RandomForestClassifier\n",
    "import statsmodels.api as sm\n",
    "from sklearn.pipeline import make_pipeline\n",
    "from sklearn.preprocessing import StandardScaler\n",
    "from sklearn.svm import SVC\n",
    "from sklearn.model_selection import KFold\n",
    "from sklearn.model_selection import cross_val_score\n",
    "\n",
    "# Change inline plots default size\n",
    "plt.rcParams['figure.figsize'] = [12, 8]"
   ]
  },
  {
   "cell_type": "markdown",
   "id": "fcea56ee",
   "metadata": {},
   "source": [
    "## Summary: ##\n",
    "\n"
   ]
  },
  {
   "cell_type": "code",
   "execution_count": null,
   "id": "6f5f46b9",
   "metadata": {},
   "outputs": [],
   "source": []
  },
  {
   "cell_type": "markdown",
   "id": "32c66b68",
   "metadata": {},
   "source": [
    "## Final Model: ##"
   ]
  },
  {
   "cell_type": "code",
   "execution_count": 18,
   "id": "2c2c1fee",
   "metadata": {},
   "outputs": [
    {
     "name": "stdout",
     "output_type": "stream",
     "text": [
      "0.7230769230769231 0.14289649500258453\n"
     ]
    }
   ],
   "source": [
    "# Read in the rawData\n",
    "columns = ['Happy', 'OnTime', 'OrderCorrect', 'FoundEverything', 'GoodPrice', 'DeliverySatisfaction', 'EasyToUse']\n",
    "rawData = pd.read_csv('ACME-HappinessSurvey2020.csv', header=0, names=columns)\n",
    "\n",
    "# Separate data in independent (features) and dependent (target) datasets\n",
    "# Exclude 'OrderCorrect' and 'DeliverySatisfaction' from features due to poor performance\n",
    "x_final = rawData[['OnTime', 'FoundEverything', 'GoodPrice', 'EasyToUse']]\n",
    "y_final = rawData[['Happy']]\n",
    "\n",
    "clf = RandomForestClassifier(max_depth=11, min_samples_split=6, min_samples_leaf=1)\n",
    "scores = cross_val_score(clf, x_final, np.ravel(y_final), cv=5)\n",
    "print (scores.mean(), scores.std())\n",
    "\n",
    "clf = clf.fit(x_final, np.ravel(y_final))\n",
    "\n",
    "#### Add test set here ####\n",
    "## testData = pd.read_csv()\n",
    "## x_test = testData[['OnTime', 'FoundEverything', 'GoodPrice', 'EasyToUse']]\n",
    "## y_test = testData[['Happy']]\n",
    "## clf.predict(x_test)"
   ]
  },
  {
   "cell_type": "markdown",
   "id": "4fc24f97",
   "metadata": {},
   "source": [
    "## Work: ##"
   ]
  },
  {
   "cell_type": "code",
   "execution_count": 3,
   "id": "1d2119c5",
   "metadata": {},
   "outputs": [
    {
     "name": "stdout",
     "output_type": "stream",
     "text": [
      "200 0.6993846153846154 0.1344217508463259\n",
      "300 0.6993846153846154 0.1344217508463259\n",
      "400 0.6913846153846154 0.1341467888051949\n",
      "500 0.6913846153846154 0.1341467888051949\n",
      "600 0.6993846153846154 0.1344217508463259\n",
      "700 0.6993846153846154 0.1344217508463259\n",
      "800 0.699076923076923 0.1283397856929642\n",
      "900 0.6913846153846154 0.1341467888051949\n",
      "1000 0.707076923076923 0.12814784361231057\n",
      "1100 0.6913846153846154 0.1341467888051949\n",
      "1200 0.6913846153846154 0.1341467888051949\n",
      "1300 0.6993846153846154 0.1344217508463259\n",
      "1400 0.6993846153846154 0.1344217508463259\n",
      "1500 0.6993846153846154 0.1344217508463259\n",
      "1600 0.6993846153846154 0.1344217508463259\n",
      "1700 0.6913846153846154 0.1341467888051949\n",
      "1800 0.6913846153846154 0.1341467888051949\n",
      "1900 0.6993846153846154 0.1344217508463259\n",
      "2000 0.6993846153846154 0.1344217508463259\n"
     ]
    }
   ],
   "source": [
    "## Num Estimators Param Search ##\n",
    "n_estimators = [int(x) for x in np.linspace(start = 200, stop = 2000, num = 19)]\n",
    "for nest in n_estimators:\n",
    "    clf = RandomForestClassifier(n_estimators=nest)\n",
    "    scores = cross_val_score(clf, x_final, np.ravel(y_final), cv=5)\n",
    "    print (nest, scores.mean(), scores.std())"
   ]
  },
  {
   "cell_type": "code",
   "execution_count": 4,
   "id": "071d1b74",
   "metadata": {},
   "outputs": [
    {
     "name": "stdout",
     "output_type": "stream",
     "text": [
      "1 0.5793846153846153 0.0894511866489171\n",
      "3 0.62 0.1475127113166862\n",
      "5 0.6516923076923077 0.10735595826570564\n",
      "7 0.6596923076923077 0.11346464141780474\n",
      "9 0.6913846153846154 0.1341467888051949\n",
      "11 0.6993846153846154 0.12453596709622372\n",
      "13 0.6993846153846154 0.1344217508463259\n",
      "15 0.6913846153846154 0.1341467888051949\n",
      "17 0.707076923076923 0.12814784361231057\n",
      "19 0.707076923076923 0.12814784361231057\n",
      "21 0.6913846153846154 0.1341467888051949\n",
      "23 0.6993846153846154 0.1344217508463259\n",
      "25 0.7073846153846154 0.12431835445515627\n",
      "27 0.707076923076923 0.12814784361231057\n",
      "29 0.6993846153846154 0.1344217508463259\n",
      "31 0.707076923076923 0.11773644220242603\n",
      "33 0.6993846153846154 0.1344217508463259\n",
      "35 0.6993846153846154 0.1344217508463259\n",
      "37 0.6913846153846154 0.1341467888051949\n",
      "39 0.707076923076923 0.12814784361231057\n",
      "41 0.707076923076923 0.14234419490265562\n",
      "43 0.6913846153846154 0.1341467888051949\n",
      "45 0.691076923076923 0.12293222263079255\n",
      "47 0.699076923076923 0.1283397856929642\n",
      "49 0.707076923076923 0.12814784361231057\n",
      "51 0.707076923076923 0.12814784361231057\n",
      "53 0.691076923076923 0.13997260932392003\n",
      "55 0.6993846153846154 0.1344217508463259\n",
      "57 0.6993846153846154 0.1344217508463259\n",
      "59 0.6833846153846154 0.12850492127891217\n",
      "61 0.6993846153846154 0.1344217508463259\n",
      "63 0.6913846153846154 0.1341467888051949\n",
      "65 0.707076923076923 0.12814784361231057\n",
      "67 0.707076923076923 0.12814784361231057\n",
      "69 0.707076923076923 0.12814784361231057\n",
      "71 0.6913846153846154 0.1341467888051949\n",
      "73 0.699076923076923 0.1283397856929642\n",
      "75 0.6913846153846154 0.1341467888051949\n"
     ]
    }
   ],
   "source": [
    "## Max Depth Samples Leaf Param Search ##\n",
    "max_depth = [int(x) for x in np.linspace(1, 75, num = 38)]\n",
    "for md in max_depth:\n",
    "    clf = RandomForestClassifier(max_depth=md)\n",
    "    scores = cross_val_score(clf, x_final, np.ravel(y_final), cv=5)\n",
    "    print (md, scores.mean(), scores.std())"
   ]
  },
  {
   "cell_type": "code",
   "execution_count": 5,
   "id": "59374236",
   "metadata": {},
   "outputs": [
    {
     "name": "stdout",
     "output_type": "stream",
     "text": [
      "2 0.699076923076923 0.1283397856929642\n",
      "3 0.6993846153846154 0.1344217508463259\n",
      "4 0.6913846153846154 0.1341467888051949\n",
      "5 0.6836923076923077 0.14139658441009187\n",
      "6 0.7153846153846153 0.14054500847872195\n",
      "7 0.707076923076923 0.1354321594839468\n",
      "8 0.699076923076923 0.13795325509648537\n",
      "9 0.6753846153846154 0.12970608558989535\n",
      "10 0.6513846153846153 0.13276343690005465\n"
     ]
    }
   ],
   "source": [
    "## Min Samples Split Param Search ##\n",
    "min_samples_split = [2, 3, 4, 5, 6, 7, 8, 9, 10]\n",
    "for mss in min_samples_split:\n",
    "    clf = RandomForestClassifier(max_depth=11, min_samples_split=mss)\n",
    "    scores = cross_val_score(clf, x_final, np.ravel(y_final), cv=5)\n",
    "    print (mss, scores.mean(), scores.std())"
   ]
  },
  {
   "cell_type": "code",
   "execution_count": 10,
   "id": "59437d15",
   "metadata": {},
   "outputs": [
    {
     "name": "stdout",
     "output_type": "stream",
     "text": [
      "1 0.7073846153846153 0.14344006851099128\n",
      "2 0.699076923076923 0.14693910504598826\n",
      "3 0.6753846153846153 0.16451039067199755\n",
      "4 0.6030769230769231 0.1266407115523488\n",
      "5 0.5870769230769232 0.11541373991404467\n",
      "6 0.5633846153846154 0.10452665920810394\n"
     ]
    }
   ],
   "source": [
    "## Min Samples Leaf Param Search ##\n",
    "min_samples_leaf = [1, 2, 3, 4, 5, 6]\n",
    "for msl in min_samples_leaf:\n",
    "    clf = RandomForestClassifier(max_depth=11, min_samples_split=6, min_samples_leaf=msl)\n",
    "    scores = cross_val_score(clf, x_final, np.ravel(y_final), cv=5)\n",
    "    print (msl, scores.mean(), scores.std())"
   ]
  },
  {
   "cell_type": "code",
   "execution_count": null,
   "id": "15308c5d",
   "metadata": {},
   "outputs": [],
   "source": []
  },
  {
   "cell_type": "code",
   "execution_count": null,
   "id": "78680e75",
   "metadata": {},
   "outputs": [],
   "source": []
  }
 ],
 "metadata": {
  "kernelspec": {
   "display_name": "Python 3 (ipykernel)",
   "language": "python",
   "name": "python3"
  },
  "language_info": {
   "codemirror_mode": {
    "name": "ipython",
    "version": 3
   },
   "file_extension": ".py",
   "mimetype": "text/x-python",
   "name": "python",
   "nbconvert_exporter": "python",
   "pygments_lexer": "ipython3",
   "version": "3.7.11"
  }
 },
 "nbformat": 4,
 "nbformat_minor": 5
}
